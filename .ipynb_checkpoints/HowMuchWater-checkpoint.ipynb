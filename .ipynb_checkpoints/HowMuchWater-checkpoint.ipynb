{
 "cells": [
  {
   "cell_type": "markdown",
   "metadata": {},
   "source": [
    "<h1>How Much Water?</h1>\n",
    "\n",
    "The goal of this project is to download data from an API, parse the data, load it into a local database and create an analytical reports for this data. For this exercise we will be pulling data from the United States Geological Survey (USGS) water service to determine how much *streamflow* was recorded at the Ohio River by the flow meter at the Louisville Water Station (03292494). The user can enter dates of their choosing if they like.\n",
    "\n",
    "**Version**\n",
    "<p>This tool was made with Python 3.6.5 and Jupyter Notebooks 5.0.0</p>\n",
    "\n",
    "**Tools**\n",
    "* *USGS Data* :https://waterservices.usgs.gov/rest/DV-Service.html\n",
    "* *Markdown* :https://guides.github.com/pdfs/markdown-cheatsheet-online.pdf\n",
    "* *USGS Data Requests Helper* :https://waterservices.usgs.gov/rest/DV-Test-Tool.html\n",
    "* *Bokeh* :https://bokeh.pydata.org/en/latest/\n",
    "* *SQLite3* :https://docs.python.org/2/library/sqlite3.html\n",
    "\n",
    "**Special Thanks to**\n",
    "\n",
    "I just wanted to say a very big thanks to all of mentors at Code Louisville who guided, taught and helped me get to this point!\n"
   ]
  },
  {
   "cell_type": "code",
   "execution_count": 2,
   "metadata": {
    "collapsed": true
   },
   "outputs": [],
   "source": [
    "#import pandas as pd\n",
    "#import os\n",
    "import requests\n",
    "import json\n",
    "from datetime import datetime,date\n",
    "from collections import namedtuple\n",
    "import sqlite3\n",
    "from bokeh.io import output_file, show\n",
    "from bokeh.plotting import figure\n",
    "from bokeh.models import HoverTool, NumeralTickFormatter, ColumnDataSource"
   ]
  },
  {
   "cell_type": "markdown",
   "metadata": {},
   "source": [
    "<h2>Getting the Date parameters</h2>\n",
    "\n",
    "So we need to get the date parameters to construct it into a string for our request to the API. We create a function that asks the user to make the request. I also added in some validation so that its in the proper format."
   ]
  },
  {
   "cell_type": "code",
   "execution_count": 3,
   "metadata": {},
   "outputs": [
    {
     "name": "stdout",
     "output_type": "stream",
     "text": [
      "Enter End Date in YYYY-MM-DD format: 2018-10-11\n",
      "Great Scott! that date is way into the future! I'll reset it to 2018-03-07.\n",
      "Enter Start Date in YYYY-MM-DD format: 2018-01-01\n",
      "\n",
      "Start Date: 2018-01-01\n",
      "End Date: 2018-03-07\n",
      "\n",
      "Are you happy with these parameters? [Y/n] y\n"
     ]
    }
   ],
   "source": [
    "site = '03292494'\n",
    "tbl_name = 'site_'+site\n",
    "\n",
    "def enterdate(text_date):\n",
    "    #create a condition where the user is asked for a correct date\n",
    "    exit = False\n",
    "    while(not exit):\n",
    "        date_entry = input(f'Enter {text_date} in YYYY-MM-DD format: ')\n",
    "        try:\n",
    "            year, month, day = map(int, date_entry.split('-'))\n",
    "            try:\n",
    "                date1 = date(year, month, day)\n",
    "                exit = True\n",
    "                return date1\n",
    "            except ValueError:\n",
    "                print(f\"That is not a valid {text_date}, please enter a date in the YYYY-MM-DD format\")\n",
    "        except ValueError:\n",
    "            print(f\"That is not a valid {text_date}, please enter a date in the YYYY-MM-DD format\")\n",
    "\n",
    "#create a continous loop so that the user will be asked if they\n",
    "out = False\n",
    "while(not out):\n",
    "    #set end date variable\n",
    "    enddate = str(enterdate(\"End Date\"))\n",
    "\n",
    "    #check if the end date is valid, if not reset it to today\n",
    "    checkdate = datetime.strptime(enddate, '%Y-%m-%d').date()\n",
    "    if checkdate > date.today():\n",
    "        enddate = str(date.today())\n",
    "        print(\"Great Scott! that date is way into the future! I'll reset it to {}.\".format(enddate))\n",
    "\n",
    "    startdate = str(enterdate(\"Start Date\"))\n",
    "\n",
    "    #check if the end date is greater than the start date\n",
    "    end_date = datetime.strptime(enddate, '%Y-%m-%d').date()\n",
    "    start_date = datetime.strptime(startdate, '%Y-%m-%d').date()\n",
    "\n",
    "    if end_date <= start_date:\n",
    "        one_week = timedelta(weeks=1)\n",
    "        start_date = end_date - one_week\n",
    "        print(f'The Start Date should be less than the End date\\nI set the value to {start_date}')\n",
    "        startdate = str(start_date)\n",
    "    \n",
    "    #allow user to check date params\n",
    "    print(f'\\nStart Date: {startdate}\\nEnd Date: {enddate}\\n')\n",
    "    escape = input('Are you happy with these parameters? [Y/n] ').strip('').lower()\n",
    "    if escape == 'y':\n",
    "        out = True\n",
    "        url = 'http://waterservices.usgs.gov/nwis/dv/?format=json&indent=on&sites={}&startDT={}&endDT={}&siteStatus=all'.format(site,startdate,enddate)\n",
    "        #print(url)\n",
    "\n",
    "#print(enddate)\n",
    "\n",
    "\n"
   ]
  },
  {
   "cell_type": "markdown",
   "metadata": {},
   "source": [
    "<h2>Also, check if the response of the request</h2>"
   ]
  },
  {
   "cell_type": "code",
   "execution_count": 4,
   "metadata": {},
   "outputs": [
    {
     "name": "stdout",
     "output_type": "stream",
     "text": [
      "The request returned some data\n"
     ]
    }
   ],
   "source": [
    "test_url = requests.get(url)\n",
    "if test_url.status_code != 200:\n",
    "    print(f'Hey there, something went wrong with our request.\\nIt returned as status code of {test_url.status_code}.\\nAre we sure about {site} as the site name?')\n",
    "else:\n",
    "    print(\"The request returned some data\")"
   ]
  },
  {
   "cell_type": "markdown",
   "metadata": {},
   "source": [
    "<h2>Parsing</h2>\n",
    "\n",
    "Here we use the json library to get the text response and access the values. I printed them out here so we can check if we are getting the correct response."
   ]
  },
  {
   "cell_type": "code",
   "execution_count": 5,
   "metadata": {
    "scrolled": false
   },
   "outputs": [
    {
     "name": "stdout",
     "output_type": "stream",
     "text": [
      "72200\n",
      "{'value': '46000', 'qualifiers': ['P'], 'dateTime': '2018-01-04T00:00:00.000'}\n"
     ]
    }
   ],
   "source": [
    "response_url = requests.get(url)\n",
    "parsed_json = json.loads(response_url.text)\n",
    "\n",
    "#print(parsed_json['value']['timeSeries'][0]['values'][0]['value'])\n",
    "#print()\n",
    "\n",
    "#checking the values so that we can get to the data we want.\n",
    "print(parsed_json['value']['timeSeries'][0]['values'][0]['value'][0]['value'])\n",
    "print(parsed_json['value']['timeSeries'][0]['values'][0]['value'][3])\n",
    "#print(parsed_json)"
   ]
  },
  {
   "cell_type": "code",
   "execution_count": 6,
   "metadata": {
    "collapsed": true,
    "scrolled": true
   },
   "outputs": [],
   "source": [
    "#save the list of values in a variable. (because...)\n",
    "daily_dis = parsed_json['value']['timeSeries'][0]['values'][0]['value']\n",
    "\n",
    "#lets look at the data...\n",
    "def insp_Request(request_list):\n",
    "    for value in request_list:\n",
    "        #get the current value of the date and change it to a datetime object, well actually the datetime object should be stored in sqllite.\n",
    "        date_text = value['dateTime'][:10]\n",
    "        #date = datetime.strptime(date_text, '%Y-%m-%d').date()\n",
    "\n",
    "        #get the depth and cast it as a string\n",
    "        discharge = int(value['value'])\n",
    "\n",
    "        #get the qualifier for the data you downloaded. note that P means \"provisional\"\n",
    "        qualifier = value['qualifiers'][0]\n",
    "\n",
    "        print('Date: {} \\tDischarge: {}\\t Qualifier: {}'.format(date_text,discharge,qualifier))\n",
    "\n",
    "#insp_Request(daily_dis)"
   ]
  },
  {
   "cell_type": "markdown",
   "metadata": {},
   "source": [
    "<h2>Using the NamedTuple</h2>\n",
    "\n",
    "So now that we have our data where we want it we can now load it into a SQL database. But before we do that we should use the namedtuple parameter in case we had to handle a larger table to load into sql"
   ]
  },
  {
   "cell_type": "code",
   "execution_count": 7,
   "metadata": {},
   "outputs": [
    {
     "name": "stdout",
     "output_type": "stream",
     "text": [
      "72200\n",
      "2018-01-01\n",
      "P\n"
     ]
    }
   ],
   "source": [
    "daily_discharge = namedtuple('daily_discharge','date, discharge, qualifier')\n",
    "discharge_list = []\n",
    "\n",
    "#lets now pack that data into a namedtuple...\n",
    "for val in daily_dis:\n",
    "    #get the current value of the date and change it to a datetime object\n",
    "    date_text = val['dateTime'][:10]\n",
    "    #date = datetime.strptime(date_text, '%Y-%m-%d').date()\n",
    "    \n",
    "    #get the depth and cast it as a string\n",
    "    discharge = int(val['value'])\n",
    "    \n",
    "    #get the qualifier for the data you downloaded. note that P means \"provisional\"\n",
    "    qualifier = val['qualifiers'][0]\n",
    "    \n",
    "    discharge_list.append(daily_discharge(date_text,discharge,qualifier))\n",
    "    \n",
    "#check how you can access the namedtuple\n",
    "print(discharge_list[0].discharge)\n",
    "print(discharge_list[0].date)\n",
    "print(discharge_list[0].qualifier)"
   ]
  },
  {
   "cell_type": "code",
   "execution_count": 8,
   "metadata": {},
   "outputs": [
    {
     "name": "stdout",
     "output_type": "stream",
     "text": [
      "2018-01-01\n",
      "2018-03-06\n"
     ]
    }
   ],
   "source": [
    "#checking the range of what we are about to input into the database.\n",
    "print(discharge_list[0].date)\n",
    "print(discharge_list[len(discharge_list)-1].date)"
   ]
  },
  {
   "cell_type": "markdown",
   "metadata": {},
   "source": [
    "<h2>Loading into the SQLite Database</h2>\n",
    "\n",
    "We load it into the SQL database, take note that since we are loading this into a SQLite database. You should know that SQLite does not store dates as date types. Its stored as REAL, TEXT or INTERGER. Lets use integer and create a database using a cursor methon on the sql database object. Then we call sql statements using the execute command.\n",
    "\n",
    "*Check this link for more info: https://docs.python.org/2/library/sqlite3.html*\n",
    "\n",
    "**Design Decision**\n",
    "\n",
    "When i was thinking about the design of this i wanted the user to be able to run this script again and load as much data they wanted *or needed* in the database for reporting. So the next step goes through checking if the table already exists and then later checking if the record for that table already exists to prevent duplication."
   ]
  },
  {
   "cell_type": "code",
   "execution_count": 9,
   "metadata": {},
   "outputs": [
    {
     "name": "stdout",
     "output_type": "stream",
     "text": [
      "The table site_03292494 already exist\n"
     ]
    }
   ],
   "source": [
    "conn = sqlite3.connect('daily_discharge.db')\n",
    "cur = conn.cursor()\n",
    "\n",
    "\n",
    "sql_text = (tbl_name,)\n",
    "#check if the table exists, TRUE if the select statement returns nothing, FALSE if it returns something.  \n",
    "Not_exists = cur.execute('SELECT name FROM sqlite_master WHERE type=\"table\" AND name=?',sql_text) is None\n",
    "\n",
    "#if the table exists do nothing\n",
    "if(Not_exists):\n",
    "    print('it does not exist')\n",
    "    #create the table if it does not exist\n",
    "    cur.execute('''CREATE TABLE ?(date TEXT, discharge REAL, qualifier TEXT)''',sql_text)\n",
    "    cur.commit()\n",
    "else:\n",
    "    print('The table {} already exist'.format(sql_text[0]))\n",
    "    #insert the values of the table into the created table\n"
   ]
  },
  {
   "cell_type": "markdown",
   "metadata": {},
   "source": [
    "<h2>Preventing Duplicate Records</h2>\n",
    "This is a time series dataset for each day of the station and there could a point where we request data that is already in the dataset. So lets run a few sql commands to the existing database to see if the data is already there. If it does, then we just ignore it (#needResearch). If not, then we insert that record."
   ]
  },
  {
   "cell_type": "code",
   "execution_count": 10,
   "metadata": {
    "collapsed": true
   },
   "outputs": [],
   "source": [
    "for record in discharge_list:\n",
    "    date = (tbl_name, record.date)\n",
    "    #print(date)\n",
    "    sql_stmt = f'SELECT date FROM {date[0]} WHERE date=\"{date[1]}\"'\n",
    "    check = cur.execute(sql_stmt).fetchone() is not None\n",
    "    if(check):\n",
    "        #The record is there...so continue to the next record.\n",
    "        #print(\"returned True, is not None\")\n",
    "        continue\n",
    "        #print(\"this is ignored\")\n",
    "    else:\n",
    "        #The record is not there so insert it\n",
    "        sql_stmt = f'INSERT INTO {date[0]} VALUES(?,?,?)'\n",
    "        value = (record.date, record.discharge, record.qualifier)\n",
    "        #print(\"returned False, the record is not there\")\n",
    "        cur.execute(sql_stmt, value)\n",
    "        conn.commit()"
   ]
  },
  {
   "cell_type": "markdown",
   "metadata": {},
   "source": [
    "<h2>Getting Data Back for Reports</h2>\n",
    "Great! Now we have data that can persist through multiple uses! Woop Woop! Next is we get all of the records that we have to see the trend of waterflow that went pass the sensor at the Louisville Water Tower station."
   ]
  },
  {
   "cell_type": "code",
   "execution_count": 11,
   "metadata": {
    "collapsed": true
   },
   "outputs": [],
   "source": [
    "results = cur.execute('SELECT * FROM site_03292494 ORDER BY date DESC')\n",
    "\n",
    "dates = []\n",
    "discharges = []\n",
    "for row in results:\n",
    "    #print('Date: {} \\tDischarge: {} \\t Qualifier:{}'.format(row[0],row[1],row[2]))\n",
    "    date_text = row[0]\n",
    "    date = datetime.strptime(date_text, '%Y-%m-%d').date()\n",
    "    dates.append(date)\n",
    "    discharges.append(row[1])\n",
    "\n"
   ]
  },
  {
   "cell_type": "markdown",
   "metadata": {},
   "source": [
    "<h2>Using Bokeh for Plots</h2>\n",
    "In order to see that data we just pulled I used Bokeh to plot it out."
   ]
  },
  {
   "cell_type": "code",
   "execution_count": 13,
   "metadata": {},
   "outputs": [],
   "source": [
    "output_file(\"discharges.html\")\n",
    "\n",
    "TOOLs = \"pan,lasso_select,box_select,tap\"\n",
    "\n",
    "source = ColumnDataSource(data=dict(dates=dates,discharges=discharges))\n",
    "\n",
    "plot_fig = figure(plot_width=700, plot_height=500, title=\"Ohio River Station 03292494\", x_axis_type='datetime', tools=TOOLs)\n",
    "plot_fig.circle('dates', 'discharges', size=8, color='navy', alpha=0.5, source=source)\n",
    "plot_fig.line('dates','discharges', color='navy', source=source)\n",
    "\n",
    "hover = HoverTool(\n",
    "    tooltips=[\n",
    "        ('Discharge', '@discharges')\n",
    "    ])\n",
    "\n",
    "#add the hover tool tips\n",
    "plot_fig.add_tools(hover)\n",
    "\n",
    "#format the axes\n",
    "plot_fig.yaxis.formatter = NumeralTickFormatter(format='0,0')\n",
    "plot_fig.yaxis.axis_label = \"Streamflow (cfs)\"\n",
    "\n",
    "\n",
    "show(plot_fig)"
   ]
  },
  {
   "cell_type": "code",
   "execution_count": 14,
   "metadata": {
    "collapsed": true
   },
   "outputs": [],
   "source": [
    "#disconnect to the sql database\n",
    "conn.close()"
   ]
  },
  {
   "cell_type": "markdown",
   "metadata": {},
   "source": [
    "what if it was stored in a csv? the data is stored as a text file in the data folder. Now based on the file structure there is a data folder where the root of the \n",
    "\n",
    "```\n",
    "#get the current working directory\n",
    "#path = os.getcwd()\n",
    "\n",
    "#data = pd.read_csv(path+'/'+'data/BeargrassCreek.txt', sep='\\t', header=1)\n",
    "#print(data)\n",
    "```"
   ]
  }
 ],
 "metadata": {
  "kernelspec": {
   "display_name": "Python 3",
   "language": "python",
   "name": "python3"
  },
  "language_info": {
   "codemirror_mode": {
    "name": "ipython",
    "version": 3
   },
   "file_extension": ".py",
   "mimetype": "text/x-python",
   "name": "python",
   "nbconvert_exporter": "python",
   "pygments_lexer": "ipython3",
   "version": "3.6.1"
  }
 },
 "nbformat": 4,
 "nbformat_minor": 2
}

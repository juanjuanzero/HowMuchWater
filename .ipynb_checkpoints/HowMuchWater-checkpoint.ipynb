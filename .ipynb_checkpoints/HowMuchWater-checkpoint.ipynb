{
 "cells": [
  {
   "cell_type": "markdown",
   "metadata": {},
   "source": [
    "<h1>How Much Water?</h1>\n",
    "\n",
    "The goal of this project is to download data from an API, parse the data, load it into a local database and create an analytical reports for this data. For this exercise we will be pulling data from the United States Geological Survey (USGS) water service to determine how much *streamflow* was recorded at the Ohio River by the flow meter at the Louisville Water Station (03292494). The user can enter dates of their choosing if they like.\n",
    "\n",
    "**Version**\n",
    "<p>This tool was made with Python 3.6.1 and Jupyter Notebooks 5.0.0</p>\n",
    "<p>A requirements.txt accompanies this file, which defines all of the requirements used (including others) in developing this tool. Be sure to install the requests and bokeh packages into your environment before running the program.</p>\n",
    "\n",
    "**Tools**\n",
    "* *USGS Data* :https://waterservices.usgs.gov/rest/DV-Service.html\n",
    "* *Markdown* :https://guides.github.com/pdfs/markdown-cheatsheet-online.pdf\n",
    "* *USGS Data Requests Helper* :https://waterservices.usgs.gov/rest/DV-Test-Tool.html\n",
    "* *Bokeh* :https://bokeh.pydata.org/en/latest/\n",
    "* *SQLite3* :https://docs.python.org/2/library/sqlite3.html\n",
    "\n",
    "**Special Thanks to**\n",
    "\n",
    "I just wanted to say a very big thanks to all of mentors at Code Louisville who guided, taught and helped me get to this point!\n"
   ]
  },
  {
   "cell_type": "code",
   "execution_count": 24,
   "metadata": {
    "collapsed": true
   },
   "outputs": [],
   "source": [
    "#import pandas as pd\n",
    "import os\n",
    "import csv\n",
    "import requests\n",
    "import json\n",
    "from datetime import datetime, date, timedelta\n",
    "from collections import namedtuple\n",
    "import sqlite3\n",
    "from bokeh.io import output_file, show, output_notebook\n",
    "from bokeh.plotting import figure\n",
    "from bokeh.models import HoverTool, NumeralTickFormatter, ColumnDataSource"
   ]
  },
  {
   "cell_type": "markdown",
   "metadata": {},
   "source": [
    "<h2>Getting the Date parameters</h2>\n",
    "\n",
    "So we need to get the date parameters to construct it into a string for our request to the API. We create a function that asks the user to make the request. I also added in some validation so that its in the proper format."
   ]
  },
  {
   "cell_type": "code",
   "execution_count": 25,
   "metadata": {},
   "outputs": [
    {
     "name": "stdout",
     "output_type": "stream",
     "text": [
      "Enter End Date in YYYY-MM-DD format: 2018-02-25\n",
      "Enter Start Date in YYYY-MM-DD format: 2017-02-25\n",
      "\n",
      "Start Date: 2017-02-25\n",
      "End Date: 2018-02-25\n",
      "\n",
      "Are you happy with these parameters? [Y/n] y\n"
     ]
    }
   ],
   "source": [
    "site = '03292494'\n",
    "tbl_name = 'site_'+site\n",
    "\n",
    "def enterdate(text_date):\n",
    "    #create a condition where the user is asked for a correct date\n",
    "    exit = False\n",
    "    while(not exit):\n",
    "        date_entry = input(f'Enter {text_date} in YYYY-MM-DD format: ')\n",
    "        try:\n",
    "            year, month, day = map(int, date_entry.split('-'))\n",
    "            try:\n",
    "                date1 = date(year, month, day)\n",
    "                exit = True\n",
    "                return date1\n",
    "            except ValueError:\n",
    "                print(f\"That is not a valid {text_date}, please enter a date in the YYYY-MM-DD format\")\n",
    "        except ValueError:\n",
    "            print(f\"That is not a valid {text_date}, please enter a date in the YYYY-MM-DD format\")\n",
    "\n",
    "#create a continous loop so that the user will be asked if they\n",
    "out = False\n",
    "while(not out):\n",
    "    #set end date variable\n",
    "    enddate = str(enterdate(\"End Date\"))\n",
    "\n",
    "    #check if the end date is valid, if not reset it to today\n",
    "    checkdate = datetime.strptime(enddate, '%Y-%m-%d').date()\n",
    "    if checkdate > date.today():\n",
    "        enddate = str(date.today())\n",
    "        print(\"Great Scott! that date is way into the future! I'll reset it to {}.\".format(enddate))\n",
    "\n",
    "    startdate = str(enterdate(\"Start Date\"))\n",
    "\n",
    "    #check if the end date is greater than the start date\n",
    "    end_date = datetime.strptime(enddate, '%Y-%m-%d').date()\n",
    "    start_date = datetime.strptime(startdate, '%Y-%m-%d').date()\n",
    "\n",
    "    if end_date <= start_date:\n",
    "        one_week = timedelta(weeks=1)\n",
    "        start_date = end_date - one_week\n",
    "        print(f'The Start Date should be less than the End date\\nI set the value to {start_date}')\n",
    "        startdate = str(start_date)\n",
    "    \n",
    "    #allow user to check date params\n",
    "    print(f'\\nStart Date: {startdate}\\nEnd Date: {enddate}\\n')\n",
    "    escape = input('Are you happy with these parameters? [Y/n] ').strip('').lower()\n",
    "    if escape == 'y':\n",
    "        out = True\n",
    "        url = 'http://waterservices.usgs.gov/nwis/dv/?format=json&indent=on&sites={}&startDT={}&endDT={}&siteStatus=all'.format(site,startdate,enddate)\n",
    "        #print(url)\n",
    "\n",
    "#print(enddate)\n",
    "\n",
    "\n"
   ]
  },
  {
   "cell_type": "markdown",
   "metadata": {},
   "source": [
    "<h2>Also, check if the response of the request</h2>"
   ]
  },
  {
   "cell_type": "code",
   "execution_count": 26,
   "metadata": {},
   "outputs": [
    {
     "name": "stdout",
     "output_type": "stream",
     "text": [
      "The request returned some data\n"
     ]
    }
   ],
   "source": [
    "test_url = requests.get(url)\n",
    "if test_url.status_code != 200:\n",
    "    print(f'Hey there, something went wrong with our request.\\nIt returned as status code of {test_url.status_code}.\\nAre we sure about {site} as the site name?')\n",
    "else:\n",
    "    print(\"The request returned some data\")"
   ]
  },
  {
   "cell_type": "markdown",
   "metadata": {},
   "source": [
    "<h2>Parsing</h2>\n",
    "\n",
    "Here we use the json library to get the text response and access the values. I printed them out here so we can check if we are getting the correct response."
   ]
  },
  {
   "cell_type": "code",
   "execution_count": 27,
   "metadata": {
    "scrolled": false
   },
   "outputs": [
    {
     "name": "stdout",
     "output_type": "stream",
     "text": [
      "78800\n",
      "{'value': '112000', 'qualifiers': ['P'], 'dateTime': '2017-02-28T00:00:00.000'}\n"
     ]
    }
   ],
   "source": [
    "response_url = requests.get(url)\n",
    "parsed_json = json.loads(response_url.text)\n",
    "\n",
    "#print(parsed_json['value']['timeSeries'][0]['values'][0]['value'])\n",
    "#print()\n",
    "\n",
    "#checking the values so that we can get to the data we want.\n",
    "print(parsed_json['value']['timeSeries'][0]['values'][0]['value'][0]['value'])\n",
    "print(parsed_json['value']['timeSeries'][0]['values'][0]['value'][3])\n",
    "#print(parsed_json)"
   ]
  },
  {
   "cell_type": "code",
   "execution_count": 28,
   "metadata": {
    "collapsed": true
   },
   "outputs": [],
   "source": [
    "#save the list of values in a variable. (because...)\n",
    "daily_dis = parsed_json['value']['timeSeries'][0]['values'][0]['value']\n",
    "\n",
    "#lets look at the data...\n",
    "def insp_Request(request_list):\n",
    "    for value in request_list:\n",
    "        #get the current value of the date and change it to a datetime object, well actually the datetime object should be stored in sqllite.\n",
    "        date_text = value['dateTime'][:10]\n",
    "        #date = datetime.strptime(date_text, '%Y-%m-%d').date()\n",
    "\n",
    "        #get the depth and cast it as a string\n",
    "        discharge = int(value['value'])\n",
    "\n",
    "        #get the qualifier for the data you downloaded. note that P means \"provisional\"\n",
    "        qualifier = value['qualifiers'][0]\n",
    "\n",
    "        print('Date: {} \\tDischarge: {}\\t Qualifier: {}'.format(date_text,discharge,qualifier))\n",
    "\n",
    "#insp_Request(daily_dis)"
   ]
  },
  {
   "cell_type": "markdown",
   "metadata": {},
   "source": [
    "<h2>Using the NamedTuple</h2>\n",
    "\n",
    "So now that we have our data where we want it we can now load it into a SQL database. But before we do that we should use the namedtuple parameter in case we had to handle a larger table to load into sql"
   ]
  },
  {
   "cell_type": "code",
   "execution_count": 29,
   "metadata": {},
   "outputs": [
    {
     "name": "stdout",
     "output_type": "stream",
     "text": [
      "daily_discharge(date='2017-02-25', discharge=78800, qualifier='P')\n"
     ]
    }
   ],
   "source": [
    "daily_discharge = namedtuple('daily_discharge','date, discharge, qualifier')\n",
    "discharge_list = []\n",
    "\n",
    "#lets now pack that data into a namedtuple...\n",
    "for val in daily_dis:\n",
    "    #get the current value of the date and change it to a datetime object\n",
    "    date_text = val['dateTime'][:10]\n",
    "    #date = datetime.strptime(date_text, '%Y-%m-%d').date()\n",
    "    \n",
    "    #get the depth and cast it as a string\n",
    "    discharge = int(val['value'])\n",
    "    \n",
    "    #get the qualifier for the data you downloaded. note that P means \"provisional\"\n",
    "    qualifier = val['qualifiers'][0]\n",
    "    \n",
    "    discharge_list.append(daily_discharge(date_text,discharge,qualifier))\n",
    "    \n",
    "#check how you can access the namedtuple\n",
    "#print(discharge_list[0].discharge)\n",
    "#print(discharge_list[0].date)\n",
    "#print(discharge_list[0].qualifier)\n",
    "print(discharge_list[0])"
   ]
  },
  {
   "cell_type": "code",
   "execution_count": 9,
   "metadata": {},
   "outputs": [
    {
     "name": "stdout",
     "output_type": "stream",
     "text": [
      "2018-01-25\n",
      "2018-02-01\n"
     ]
    }
   ],
   "source": [
    "#checking the range of what we are about to input into the database.\n",
    "print(discharge_list[0].date)\n",
    "print(discharge_list[len(discharge_list)-1].date)"
   ]
  },
  {
   "cell_type": "markdown",
   "metadata": {},
   "source": [
    "<h2>Loading into the SQLite Database</h2>\n",
    "\n",
    "We load it into the SQL database, take note that since we are loading this into a SQLite database. You should know that SQLite does not store dates as date types. Its stored as REAL, TEXT or INTERGER. Lets use integer and create a database using a cursor methon on the sql database object. Then we call sql statements using the execute command.\n",
    "\n",
    "*Check this link for more info: https://docs.python.org/2/library/sqlite3.html*\n",
    "\n",
    "**Design Decision**\n",
    "\n",
    "When i was thinking about the design of this i wanted the user to be able to run this script again and load as much data they wanted *or needed* in the database for reporting. So the next step goes through checking if the table already exists and then later checking if the record for that table already exists to prevent duplication."
   ]
  },
  {
   "cell_type": "code",
   "execution_count": 30,
   "metadata": {
    "collapsed": true
   },
   "outputs": [],
   "source": [
    "conn = sqlite3.connect('daily_discharge.db')\n",
    "cur = conn.cursor()"
   ]
  },
  {
   "cell_type": "code",
   "execution_count": 31,
   "metadata": {},
   "outputs": [
    {
     "name": "stdout",
     "output_type": "stream",
     "text": [
      "('site_03292494',)\n",
      "The table already exists\n"
     ]
    }
   ],
   "source": [
    "sql_text = (tbl_name,)\n",
    "#print(sql_text)\n",
    "#check if the table exists, TRUE if the select statement returns nothing, FALSE if it returns something.  \n",
    "List_tables = cur.execute('SELECT name FROM sqlite_master WHERE type=\"table\" AND name=?',sql_text)\n",
    "\n",
    "Not_exists = True\n",
    "\n",
    "#loop through the returned table and output check if it exists\n",
    "for i in List_tables:\n",
    "    #print(i)\n",
    "    if i[0] == tbl_name:\n",
    "        print(\"The table already exists\") #found the matching table and breaks it.\n",
    "        Not_exists = False\n",
    "        break\n",
    "        "
   ]
  },
  {
   "cell_type": "code",
   "execution_count": 32,
   "metadata": {},
   "outputs": [
    {
     "name": "stdout",
     "output_type": "stream",
     "text": [
      "The table site_03292494 already exist\n"
     ]
    }
   ],
   "source": [
    "#if the table exists do nothing\n",
    "if(Not_exists):\n",
    "    print(f'The table, {tbl_name} does not exist yet\\n Creating {tbl_name}')\n",
    "    #create the table if it does not exist\n",
    "    try:\n",
    "        query = f'CREATE TABLE {sql_text[0]}(date TEXT, discharge REAL, qualifier TEXT)'\n",
    "        cur.execute(query)\n",
    "        conn.commit()\n",
    "    except:\n",
    "        print(\"This table may already exist.\")\n",
    "else:\n",
    "    print('The table {} already exists'.format(sql_text[0]))\n",
    "    #insert the values of the table into the created table\n"
   ]
  },
  {
   "cell_type": "markdown",
   "metadata": {},
   "source": [
    "<h2>Preventing Duplicate Records</h2>\n",
    "This is a time series dataset for each day of the station and there could a point where we request data that is already in the dataset. So lets run a few sql commands to the existing database to see if the data is already there. If it does, then we just ignore it (#needResearch). If not, then we insert that record."
   ]
  },
  {
   "cell_type": "code",
   "execution_count": 33,
   "metadata": {
    "collapsed": true
   },
   "outputs": [],
   "source": [
    "for record in discharge_list:\n",
    "    date = (tbl_name, record.date)\n",
    "    #print(date)\n",
    "    sql_stmt = f'SELECT date FROM {date[0]} WHERE date=\"{date[1]}\"'\n",
    "    check = cur.execute(sql_stmt).fetchone() is not None\n",
    "    if(check):\n",
    "        #The record is there...so continue to the next record.\n",
    "        #print(\"returned True, is not None\")\n",
    "        continue\n",
    "        #print(\"this is ignored\")\n",
    "    else:\n",
    "        #The record is not there so insert it\n",
    "        sql_stmt = f'INSERT INTO {date[0]} VALUES(?,?,?)'\n",
    "        value = (record.date, record.discharge, record.qualifier)\n",
    "        #print(\"returned False, the record is not there\")\n",
    "        cur.execute(sql_stmt, value)\n",
    "        conn.commit()"
   ]
  },
  {
   "cell_type": "markdown",
   "metadata": {},
   "source": [
    "<h2>Getting Data Back for Reports</h2>\n",
    "Great! Now we have data that can persist through multiple uses! Woop Woop! Next is we get all of the records that we have to see the trend of waterflow that went pass the sensor at the Louisville Water Tower station."
   ]
  },
  {
   "cell_type": "code",
   "execution_count": 34,
   "metadata": {
    "collapsed": true
   },
   "outputs": [],
   "source": [
    "results = cur.execute('SELECT * FROM site_03292494 ORDER BY date DESC')\n",
    "\n",
    "dates = []\n",
    "discharges = []\n",
    "for row in results:\n",
    "    #print('Date: {} \\tDischarge: {} \\t Qualifier:{}'.format(row[0],row[1],row[2]))\n",
    "    if row[1] > 0:\n",
    "        discharges.append(row[1])\n",
    "        date_text = row[0]\n",
    "        date = datetime.strptime(date_text, '%Y-%m-%d').date()\n",
    "        dates.append(date)\n",
    "    else:\n",
    "        continue\n",
    "    \n",
    "    \n",
    "    \n",
    "\n"
   ]
  },
  {
   "cell_type": "markdown",
   "metadata": {},
   "source": [
    "<h2>Using Bokeh for Plots</h2>\n",
    "In order to see that data we just pulled I used Bokeh to plot it out."
   ]
  },
  {
   "cell_type": "code",
   "execution_count": 35,
   "metadata": {},
   "outputs": [
    {
     "data": {
      "text/html": [
       "\n",
       "    <div class=\"bk-root\">\n",
       "        <a href=\"http://bokeh.pydata.org\" target=\"_blank\" class=\"bk-logo bk-logo-small bk-logo-notebook\"></a>\n",
       "        <span id=\"8665cfe6-4bdd-4bc1-b710-56a9f31cf118\">Loading BokehJS ...</span>\n",
       "    </div>"
      ]
     },
     "metadata": {},
     "output_type": "display_data"
    },
    {
     "data": {
      "application/javascript": [
       "\n",
       "(function(global) {\n",
       "  function now() {\n",
       "    return new Date();\n",
       "  }\n",
       "\n",
       "  var force = true;\n",
       "\n",
       "  if (typeof (window._bokeh_onload_callbacks) === \"undefined\" || force === true) {\n",
       "    window._bokeh_onload_callbacks = [];\n",
       "    window._bokeh_is_loading = undefined;\n",
       "  }\n",
       "\n",
       "\n",
       "  \n",
       "  if (typeof (window._bokeh_timeout) === \"undefined\" || force === true) {\n",
       "    window._bokeh_timeout = Date.now() + 5000;\n",
       "    window._bokeh_failed_load = false;\n",
       "  }\n",
       "\n",
       "  var NB_LOAD_WARNING = {'data': {'text/html':\n",
       "     \"<div style='background-color: #fdd'>\\n\"+\n",
       "     \"<p>\\n\"+\n",
       "     \"BokehJS does not appear to have successfully loaded. If loading BokehJS from CDN, this \\n\"+\n",
       "     \"may be due to a slow or bad network connection. Possible fixes:\\n\"+\n",
       "     \"</p>\\n\"+\n",
       "     \"<ul>\\n\"+\n",
       "     \"<li>re-rerun `output_notebook()` to attempt to load from CDN again, or</li>\\n\"+\n",
       "     \"<li>use INLINE resources instead, as so:</li>\\n\"+\n",
       "     \"</ul>\\n\"+\n",
       "     \"<code>\\n\"+\n",
       "     \"from bokeh.resources import INLINE\\n\"+\n",
       "     \"output_notebook(resources=INLINE)\\n\"+\n",
       "     \"</code>\\n\"+\n",
       "     \"</div>\"}};\n",
       "\n",
       "  function display_loaded() {\n",
       "    if (window.Bokeh !== undefined) {\n",
       "      var el = document.getElementById(\"8665cfe6-4bdd-4bc1-b710-56a9f31cf118\");\n",
       "      el.textContent = \"BokehJS \" + Bokeh.version + \" successfully loaded.\";\n",
       "    } else if (Date.now() < window._bokeh_timeout) {\n",
       "      setTimeout(display_loaded, 100)\n",
       "    }\n",
       "  }\n",
       "\n",
       "  function run_callbacks() {\n",
       "    window._bokeh_onload_callbacks.forEach(function(callback) { callback() });\n",
       "    delete window._bokeh_onload_callbacks\n",
       "    console.info(\"Bokeh: all callbacks have finished\");\n",
       "  }\n",
       "\n",
       "  function load_libs(js_urls, callback) {\n",
       "    window._bokeh_onload_callbacks.push(callback);\n",
       "    if (window._bokeh_is_loading > 0) {\n",
       "      console.log(\"Bokeh: BokehJS is being loaded, scheduling callback at\", now());\n",
       "      return null;\n",
       "    }\n",
       "    if (js_urls == null || js_urls.length === 0) {\n",
       "      run_callbacks();\n",
       "      return null;\n",
       "    }\n",
       "    console.log(\"Bokeh: BokehJS not loaded, scheduling load and callback at\", now());\n",
       "    window._bokeh_is_loading = js_urls.length;\n",
       "    for (var i = 0; i < js_urls.length; i++) {\n",
       "      var url = js_urls[i];\n",
       "      var s = document.createElement('script');\n",
       "      s.src = url;\n",
       "      s.async = false;\n",
       "      s.onreadystatechange = s.onload = function() {\n",
       "        window._bokeh_is_loading--;\n",
       "        if (window._bokeh_is_loading === 0) {\n",
       "          console.log(\"Bokeh: all BokehJS libraries loaded\");\n",
       "          run_callbacks()\n",
       "        }\n",
       "      };\n",
       "      s.onerror = function() {\n",
       "        console.warn(\"failed to load library \" + url);\n",
       "      };\n",
       "      console.log(\"Bokeh: injecting script tag for BokehJS library: \", url);\n",
       "      document.getElementsByTagName(\"head\")[0].appendChild(s);\n",
       "    }\n",
       "  };var element = document.getElementById(\"8665cfe6-4bdd-4bc1-b710-56a9f31cf118\");\n",
       "  if (element == null) {\n",
       "    console.log(\"Bokeh: ERROR: autoload.js configured with elementid '8665cfe6-4bdd-4bc1-b710-56a9f31cf118' but no matching script tag was found. \")\n",
       "    return false;\n",
       "  }\n",
       "\n",
       "  var js_urls = [\"https://cdn.pydata.org/bokeh/release/bokeh-0.12.5.min.js\", \"https://cdn.pydata.org/bokeh/release/bokeh-widgets-0.12.5.min.js\"];\n",
       "\n",
       "  var inline_js = [\n",
       "    function(Bokeh) {\n",
       "      Bokeh.set_log_level(\"info\");\n",
       "    },\n",
       "    \n",
       "    function(Bokeh) {\n",
       "      \n",
       "    },\n",
       "    \n",
       "    function(Bokeh) {\n",
       "      \n",
       "      document.getElementById(\"8665cfe6-4bdd-4bc1-b710-56a9f31cf118\").textContent = \"BokehJS is loading...\";\n",
       "    },\n",
       "    function(Bokeh) {\n",
       "      console.log(\"Bokeh: injecting CSS: https://cdn.pydata.org/bokeh/release/bokeh-0.12.5.min.css\");\n",
       "      Bokeh.embed.inject_css(\"https://cdn.pydata.org/bokeh/release/bokeh-0.12.5.min.css\");\n",
       "      console.log(\"Bokeh: injecting CSS: https://cdn.pydata.org/bokeh/release/bokeh-widgets-0.12.5.min.css\");\n",
       "      Bokeh.embed.inject_css(\"https://cdn.pydata.org/bokeh/release/bokeh-widgets-0.12.5.min.css\");\n",
       "    }\n",
       "  ];\n",
       "\n",
       "  function run_inline_js() {\n",
       "    \n",
       "    if ((window.Bokeh !== undefined) || (force === true)) {\n",
       "      for (var i = 0; i < inline_js.length; i++) {\n",
       "        inline_js[i](window.Bokeh);\n",
       "      }if (force === true) {\n",
       "        display_loaded();\n",
       "      }} else if (Date.now() < window._bokeh_timeout) {\n",
       "      setTimeout(run_inline_js, 100);\n",
       "    } else if (!window._bokeh_failed_load) {\n",
       "      console.log(\"Bokeh: BokehJS failed to load within specified timeout.\");\n",
       "      window._bokeh_failed_load = true;\n",
       "    } else if (force !== true) {\n",
       "      var cell = $(document.getElementById(\"8665cfe6-4bdd-4bc1-b710-56a9f31cf118\")).parents('.cell').data().cell;\n",
       "      cell.output_area.append_execute_result(NB_LOAD_WARNING)\n",
       "    }\n",
       "\n",
       "  }\n",
       "\n",
       "  if (window._bokeh_is_loading === 0) {\n",
       "    console.log(\"Bokeh: BokehJS loaded, going straight to plotting\");\n",
       "    run_inline_js();\n",
       "  } else {\n",
       "    load_libs(js_urls, function() {\n",
       "      console.log(\"Bokeh: BokehJS plotting callback run at\", now());\n",
       "      run_inline_js();\n",
       "    });\n",
       "  }\n",
       "}(this));"
      ]
     },
     "metadata": {},
     "output_type": "display_data"
    }
   ],
   "source": [
    "output_notebook()"
   ]
  },
  {
   "cell_type": "markdown",
   "metadata": {},
   "source": [
    "<h1>How Much Water?</h1>\n",
    "\n",
    "As you can see that the peak flow of the request is done. The user can keep making the same requests for a larger and larger database. If the user looked for data for 2018-01-01 to 2018-03-01 then the user would have seen that *655,000 cubic feet/second* of water flowed through the Ohio River Station at the Louisville Water Tower. Thats a lot!"
   ]
  },
  {
   "cell_type": "code",
   "execution_count": 36,
   "metadata": {},
   "outputs": [
    {
     "data": {
      "text/html": [
       "\n",
       "\n",
       "    <div class=\"bk-root\">\n",
       "        <div class=\"bk-plotdiv\" id=\"afca190e-c76e-41d0-ba73-c033291a526d\"></div>\n",
       "    </div>\n",
       "<script type=\"text/javascript\">\n",
       "  \n",
       "  (function(global) {\n",
       "    function now() {\n",
       "      return new Date();\n",
       "    }\n",
       "  \n",
       "    var force = false;\n",
       "  \n",
       "    if (typeof (window._bokeh_onload_callbacks) === \"undefined\" || force === true) {\n",
       "      window._bokeh_onload_callbacks = [];\n",
       "      window._bokeh_is_loading = undefined;\n",
       "    }\n",
       "  \n",
       "  \n",
       "    \n",
       "    if (typeof (window._bokeh_timeout) === \"undefined\" || force === true) {\n",
       "      window._bokeh_timeout = Date.now() + 0;\n",
       "      window._bokeh_failed_load = false;\n",
       "    }\n",
       "  \n",
       "    var NB_LOAD_WARNING = {'data': {'text/html':\n",
       "       \"<div style='background-color: #fdd'>\\n\"+\n",
       "       \"<p>\\n\"+\n",
       "       \"BokehJS does not appear to have successfully loaded. If loading BokehJS from CDN, this \\n\"+\n",
       "       \"may be due to a slow or bad network connection. Possible fixes:\\n\"+\n",
       "       \"</p>\\n\"+\n",
       "       \"<ul>\\n\"+\n",
       "       \"<li>re-rerun `output_notebook()` to attempt to load from CDN again, or</li>\\n\"+\n",
       "       \"<li>use INLINE resources instead, as so:</li>\\n\"+\n",
       "       \"</ul>\\n\"+\n",
       "       \"<code>\\n\"+\n",
       "       \"from bokeh.resources import INLINE\\n\"+\n",
       "       \"output_notebook(resources=INLINE)\\n\"+\n",
       "       \"</code>\\n\"+\n",
       "       \"</div>\"}};\n",
       "  \n",
       "    function display_loaded() {\n",
       "      if (window.Bokeh !== undefined) {\n",
       "        var el = document.getElementById(\"afca190e-c76e-41d0-ba73-c033291a526d\");\n",
       "        el.textContent = \"BokehJS \" + Bokeh.version + \" successfully loaded.\";\n",
       "      } else if (Date.now() < window._bokeh_timeout) {\n",
       "        setTimeout(display_loaded, 100)\n",
       "      }\n",
       "    }\n",
       "  \n",
       "    function run_callbacks() {\n",
       "      window._bokeh_onload_callbacks.forEach(function(callback) { callback() });\n",
       "      delete window._bokeh_onload_callbacks\n",
       "      console.info(\"Bokeh: all callbacks have finished\");\n",
       "    }\n",
       "  \n",
       "    function load_libs(js_urls, callback) {\n",
       "      window._bokeh_onload_callbacks.push(callback);\n",
       "      if (window._bokeh_is_loading > 0) {\n",
       "        console.log(\"Bokeh: BokehJS is being loaded, scheduling callback at\", now());\n",
       "        return null;\n",
       "      }\n",
       "      if (js_urls == null || js_urls.length === 0) {\n",
       "        run_callbacks();\n",
       "        return null;\n",
       "      }\n",
       "      console.log(\"Bokeh: BokehJS not loaded, scheduling load and callback at\", now());\n",
       "      window._bokeh_is_loading = js_urls.length;\n",
       "      for (var i = 0; i < js_urls.length; i++) {\n",
       "        var url = js_urls[i];\n",
       "        var s = document.createElement('script');\n",
       "        s.src = url;\n",
       "        s.async = false;\n",
       "        s.onreadystatechange = s.onload = function() {\n",
       "          window._bokeh_is_loading--;\n",
       "          if (window._bokeh_is_loading === 0) {\n",
       "            console.log(\"Bokeh: all BokehJS libraries loaded\");\n",
       "            run_callbacks()\n",
       "          }\n",
       "        };\n",
       "        s.onerror = function() {\n",
       "          console.warn(\"failed to load library \" + url);\n",
       "        };\n",
       "        console.log(\"Bokeh: injecting script tag for BokehJS library: \", url);\n",
       "        document.getElementsByTagName(\"head\")[0].appendChild(s);\n",
       "      }\n",
       "    };var element = document.getElementById(\"afca190e-c76e-41d0-ba73-c033291a526d\");\n",
       "    if (element == null) {\n",
       "      console.log(\"Bokeh: ERROR: autoload.js configured with elementid 'afca190e-c76e-41d0-ba73-c033291a526d' but no matching script tag was found. \")\n",
       "      return false;\n",
       "    }\n",
       "  \n",
       "    var js_urls = [];\n",
       "  \n",
       "    var inline_js = [\n",
       "      function(Bokeh) {\n",
       "        (function() {\n",
       "          var fn = function() {\n",
       "            var docs_json = {\"b040718d-d793-4b6b-b48a-8899cb4ef2f5\":{\"roots\":{\"references\":[{\"attributes\":{\"bottom_units\":\"screen\",\"fill_alpha\":{\"value\":0.5},\"fill_color\":{\"value\":\"lightgrey\"},\"left_units\":\"screen\",\"level\":\"overlay\",\"line_alpha\":{\"value\":1.0},\"line_color\":{\"value\":\"black\"},\"line_dash\":[4,4],\"line_width\":{\"value\":2},\"plot\":null,\"render_mode\":\"css\",\"right_units\":\"screen\",\"top_units\":\"screen\"},\"id\":\"8c88c0ae-dfee-4628-9a5a-74795123f165\",\"type\":\"BoxAnnotation\"},{\"attributes\":{\"base\":60,\"mantissas\":[1,2,5,10,15,20,30],\"max_interval\":1800000.0,\"min_interval\":1000.0,\"num_minor_ticks\":0},\"id\":\"87b75e9b-a5f1-4e37-93ee-4cad844a46d0\",\"type\":\"AdaptiveTicker\"},{\"attributes\":{\"max_interval\":500.0,\"num_minor_ticks\":0},\"id\":\"162da583-c704-4157-adbc-85737c57ad9a\",\"type\":\"AdaptiveTicker\"},{\"attributes\":{\"data_source\":{\"id\":\"51cbb3d1-9417-41b7-b87d-82c3614e0f85\",\"type\":\"ColumnDataSource\"},\"glyph\":{\"id\":\"4844d782-3071-4820-8028-98da3bedbd67\",\"type\":\"Line\"},\"hover_glyph\":null,\"muted_glyph\":null,\"nonselection_glyph\":{\"id\":\"e45a7626-de08-4460-8ed0-76e76783b5c7\",\"type\":\"Line\"},\"selection_glyph\":null},\"id\":\"02014af5-9004-4bfc-9203-669d1681a4f2\",\"type\":\"GlyphRenderer\"},{\"attributes\":{\"base\":24,\"mantissas\":[1,2,4,6,8,12],\"max_interval\":43200000.0,\"min_interval\":3600000.0,\"num_minor_ticks\":0},\"id\":\"26c2079e-d7b0-4652-9d4a-54d658953c5e\",\"type\":\"AdaptiveTicker\"},{\"attributes\":{\"days\":[1,2,3,4,5,6,7,8,9,10,11,12,13,14,15,16,17,18,19,20,21,22,23,24,25,26,27,28,29,30,31]},\"id\":\"a677803a-ad5e-4614-b9dc-6530eb725c41\",\"type\":\"DaysTicker\"},{\"attributes\":{\"days\":[1,4,7,10,13,16,19,22,25,28]},\"id\":\"b830398f-cdf7-41e6-a4ca-fe56aadb26b4\",\"type\":\"DaysTicker\"},{\"attributes\":{\"callback\":null,\"plot\":{\"id\":\"8268f714-60f3-449f-bd27-b0f407559a92\",\"subtype\":\"Figure\",\"type\":\"Plot\"},\"tooltips\":[[\"Discharge\",\"@discharges\"]]},\"id\":\"b9428bc7-3da2-4be3-9b1e-d188146c358a\",\"type\":\"HoverTool\"},{\"attributes\":{\"days\":[1,8,15,22]},\"id\":\"499e0d82-b3d6-4c09-928d-3f86b4bded6e\",\"type\":\"DaysTicker\"},{\"attributes\":{\"months\":[0,4,8]},\"id\":\"850e210e-8fc7-4bb9-be19-92e70370c1da\",\"type\":\"MonthsTicker\"},{\"attributes\":{},\"id\":\"7287510f-7135-44fb-ae2e-3528561dc325\",\"type\":\"NumeralTickFormatter\"},{\"attributes\":{\"line_color\":{\"value\":\"navy\"},\"x\":{\"field\":\"dates\"},\"y\":{\"field\":\"discharges\"}},\"id\":\"4844d782-3071-4820-8028-98da3bedbd67\",\"type\":\"Line\"},{\"attributes\":{\"callback\":null,\"overlay\":{\"id\":\"8c88c0ae-dfee-4628-9a5a-74795123f165\",\"type\":\"BoxAnnotation\"},\"plot\":{\"id\":\"8268f714-60f3-449f-bd27-b0f407559a92\",\"subtype\":\"Figure\",\"type\":\"Plot\"},\"renderers\":[{\"id\":\"fd2fbf48-f1de-4cda-bde7-3dec83e69e91\",\"type\":\"GlyphRenderer\"},{\"id\":\"02014af5-9004-4bfc-9203-669d1681a4f2\",\"type\":\"GlyphRenderer\"}]},\"id\":\"0521141c-eaf4-4e72-9d75-9e1cfd017cdb\",\"type\":\"BoxSelectTool\"},{\"attributes\":{\"callback\":null,\"plot\":{\"id\":\"8268f714-60f3-449f-bd27-b0f407559a92\",\"subtype\":\"Figure\",\"type\":\"Plot\"}},\"id\":\"4edb7997-dd6c-47a4-9320-522d63453d79\",\"type\":\"TapTool\"},{\"attributes\":{\"months\":[0,6]},\"id\":\"078fe481-a74c-47f9-8991-34c1441bfa98\",\"type\":\"MonthsTicker\"},{\"attributes\":{},\"id\":\"9e72706f-d203-4901-afd3-51fe03b914e2\",\"type\":\"YearsTicker\"},{\"attributes\":{\"data_source\":{\"id\":\"51cbb3d1-9417-41b7-b87d-82c3614e0f85\",\"type\":\"ColumnDataSource\"},\"glyph\":{\"id\":\"614605ab-9111-4b02-a812-40c826283549\",\"type\":\"Circle\"},\"hover_glyph\":null,\"muted_glyph\":null,\"nonselection_glyph\":{\"id\":\"dfc8517a-8a19-4ed3-88b3-5f242911f5cd\",\"type\":\"Circle\"},\"selection_glyph\":null},\"id\":\"fd2fbf48-f1de-4cda-bde7-3dec83e69e91\",\"type\":\"GlyphRenderer\"},{\"attributes\":{\"callback\":null,\"column_names\":[\"dates\",\"discharges\"],\"data\":{\"dates\":[1519534800000.0,1519448400000.0,1519362000000.0,1519275600000.0,1519189200000.0,1519102800000.0,1519016400000.0,1518930000000.0,1518843600000.0,1518584400000.0,1518498000000.0,1518411600000.0,1518325200000.0,1518238800000.0,1518152400000.0,1518066000000.0,1517979600000.0,1517893200000.0,1517806800000.0,1517720400000.0,1517634000000.0,1517547600000.0,1517461200000.0,1517374800000.0,1517288400000.0,1517202000000.0,1517115600000.0,1517029200000.0,1516942800000.0,1516856400000.0,1516770000000.0,1516683600000.0,1516597200000.0,1516510800000.0,1516424400000.0,1516338000000.0,1516251600000.0,1516165200000.0,1516078800000.0,1515992400000.0,1515906000000.0,1515819600000.0,1515733200000.0,1515646800000.0,1515474000000.0,1515387600000.0,1515301200000.0,1515214800000.0,1515128400000.0,1515042000000.0,1514955600000.0,1514869200000.0,1514782800000.0,1514696400000.0,1514610000000.0,1514523600000.0,1514437200000.0,1514350800000.0,1514264400000.0,1514178000000.0,1514091600000.0,1514005200000.0,1513918800000.0,1513573200000.0,1513486800000.0,1513400400000.0,1513314000000.0,1513227600000.0,1513141200000.0,1513054800000.0,1512968400000.0,1512882000000.0,1512795600000.0,1512709200000.0,1512622800000.0,1512536400000.0,1511672400000.0,1511586000000.0,1511499600000.0,1511413200000.0,1511326800000.0,1511240400000.0,1511154000000.0,1511067600000.0,1510981200000.0,1510894800000.0,1510808400000.0,1510722000000.0,1510635600000.0,1510549200000.0,1510462800000.0,1510376400000.0,1510290000000.0,1510203600000.0,1510117200000.0,1510030800000.0,1509944400000.0,1509854400000.0,1509768000000.0,1509681600000.0,1509595200000.0,1509508800000.0,1509422400000.0,1509336000000.0,1509249600000.0,1509163200000.0,1509076800000.0,1508990400000.0,1508558400000.0,1508472000000.0,1508385600000.0,1508126400000.0,1508040000000.0,1507953600000.0,1507867200000.0,1507780800000.0,1507694400000.0,1507608000000.0,1507521600000.0,1506052800000.0,1505793600000.0,1505707200000.0,1505620800000.0,1505361600000.0,1505275200000.0,1505016000000.0,1504929600000.0,1504843200000.0,1504756800000.0,1504670400000.0,1504584000000.0,1504497600000.0,1504324800000.0,1504065600000.0,1503806400000.0,1503720000000.0,1503633600000.0,1503547200000.0,1503288000000.0,1503201600000.0,1503115200000.0,1502942400000.0,1502683200000.0,1502596800000.0,1502510400000.0,1502424000000.0,1502337600000.0,1502251200000.0,1502164800000.0,1502078400000.0,1501992000000.0,1501905600000.0,1501819200000.0,1501732800000.0,1501646400000.0,1501560000000.0,1501473600000.0,1501387200000.0,1501300800000.0,1501214400000.0,1501128000000.0,1501041600000.0,1500955200000.0,1500868800000.0,1500782400000.0,1500696000000.0,1500609600000.0,1500523200000.0,1500436800000.0,1500350400000.0,1500264000000.0,1500177600000.0,1500091200000.0,1500004800000.0,1499918400000.0,1499832000000.0,1499745600000.0,1499659200000.0,1499572800000.0,1499486400000.0,1499400000000.0,1499313600000.0,1499227200000.0,1499140800000.0,1499054400000.0,1498968000000.0,1498881600000.0,1498795200000.0,1498708800000.0,1498622400000.0,1498536000000.0,1498449600000.0,1498363200000.0,1498276800000.0,1498190400000.0,1498104000000.0,1498017600000.0,1497931200000.0,1497844800000.0,1497758400000.0,1497672000000.0,1497585600000.0,1497499200000.0,1497412800000.0,1497326400000.0,1497240000000.0,1497153600000.0,1497067200000.0,1496980800000.0,1496894400000.0,1496808000000.0,1496721600000.0,1496635200000.0,1496548800000.0,1496462400000.0,1496376000000.0,1496289600000.0,1496203200000.0,1496116800000.0,1496030400000.0,1495944000000.0,1495857600000.0,1495771200000.0,1495684800000.0,1495598400000.0,1495512000000.0,1495425600000.0,1495339200000.0,1495252800000.0,1495166400000.0,1495080000000.0,1494993600000.0,1494907200000.0,1494820800000.0,1494734400000.0,1494648000000.0,1494561600000.0,1494475200000.0,1494388800000.0,1494302400000.0,1494216000000.0,1494129600000.0,1494043200000.0,1493956800000.0,1493870400000.0,1493784000000.0,1493697600000.0,1493611200000.0,1493524800000.0,1493438400000.0,1493352000000.0,1493265600000.0,1493179200000.0,1493092800000.0,1493006400000.0,1492920000000.0,1492833600000.0,1492747200000.0,1492660800000.0,1492574400000.0,1492488000000.0,1492401600000.0,1492315200000.0,1492228800000.0,1492142400000.0,1492056000000.0,1491969600000.0,1491883200000.0,1491796800000.0,1491710400000.0,1491624000000.0,1491537600000.0,1491451200000.0,1491364800000.0,1491278400000.0,1491192000000.0,1491105600000.0,1491019200000.0,1490932800000.0,1490846400000.0,1490760000000.0,1490673600000.0,1490587200000.0,1490500800000.0,1490414400000.0,1490328000000.0,1490241600000.0,1490155200000.0,1490068800000.0,1489982400000.0,1489896000000.0,1489809600000.0,1489723200000.0,1489636800000.0,1489550400000.0,1489464000000.0,1489377600000.0,1489294800000.0,1489208400000.0,1489122000000.0,1489035600000.0,1488949200000.0,1488862800000.0,1488776400000.0,1488690000000.0,1488603600000.0,1488517200000.0,1488430800000.0,1488344400000.0,1488258000000.0,1488171600000.0,1488085200000.0,1487998800000.0],\"discharges\":[655000.0,605000.0,600000.0,562000.0,552000.0,552000.0,527000.0,493000.0,481000.0,409000.0,335000.0,279000.0,279000.0,293000.0,259000.0,192000.0,139000.0,122000.0,126000.0,131000.0,136000.0,161000.0,193000.0,202000.0,197000.0,181000.0,188000.0,202000.0,207000.0,199000.0,184000.0,164000.0,140000.0,128000.0,135000.0,188000.0,263000.0,338000.0,343000.0,317000.0,249000.0,161000.0,79000.0,58100.0,45400.0,42400.0,42600.0,45500.0,50100.0,46000.0,44900.0,56800.0,72200.0,87800.0,101000.0,125000.0,150000.0,175000.0,181000.0,156000.0,120000.0,78800.0,44600.0,43800.0,44700.0,44000.0,45500.0,48200.0,52000.0,47300.0,54400.0,63800.0,66400.0,56800.0,62000.0,60300.0,121000.0,134000.0,155000.0,185000.0,191000.0,162000.0,124000.0,100000.0,74600.0,83800.0,96000.0,102000.0,117000.0,137000.0,171000.0,232000.0,276000.0,275000.0,256000.0,233000.0,172000.0,88800.0,78600.0,89100.0,96300.0,92800.0,62900.0,60500.0,65600.0,81700.0,99600.0,92400.0,43300.0,44300.0,45000.0,48500.0,49100.0,55900.0,62000.0,83300.0,68600.0,63400.0,56000.0,44200.0,45400.0,43300.0,43300.0,46700.0,43500.0,53700.0,47400.0,46500.0,52400.0,51800.0,42800.0,44700.0,81500.0,50800.0,44400.0,46000.0,58200.0,59800.0,50200.0,75200.0,54400.0,52000.0,59600.0,45700.0,58100.0,52900.0,54800.0,53800.0,51400.0,57400.0,58400.0,47900.0,64700.0,81900.0,158000.0,165000.0,145000.0,108000.0,112000.0,87900.0,116000.0,136000.0,123000.0,108000.0,91700.0,52400.0,54400.0,61700.0,85700.0,120000.0,122000.0,122000.0,101000.0,111000.0,102000.0,82400.0,74000.0,106000.0,121000.0,112000.0,76900.0,70500.0,90400.0,84400.0,90700.0,81500.0,72200.0,77200.0,114000.0,175000.0,257000.0,278000.0,259000.0,204000.0,114000.0,119000.0,106000.0,72900.0,64600.0,77000.0,59500.0,70900.0,60200.0,49000.0,56800.0,59000.0,56200.0,57000.0,86500.0,110000.0,103000.0,69700.0,72500.0,102000.0,121000.0,147000.0,166000.0,169000.0,209000.0,243000.0,241000.0,209000.0,206000.0,188000.0,121000.0,138000.0,148000.0,126000.0,97000.0,105000.0,153000.0,220000.0,256000.0,248000.0,220000.0,230000.0,264000.0,305000.0,323000.0,289000.0,251000.0,252000.0,267000.0,241000.0,207000.0,202000.0,207000.0,234000.0,278000.0,250000.0,203000.0,211000.0,185000.0,156000.0,138000.0,123000.0,118000.0,117000.0,112000.0,114000.0,118000.0,128000.0,134000.0,152000.0,177000.0,215000.0,259000.0,283000.0,294000.0,302000.0,303000.0,298000.0,304000.0,330000.0,338000.0,330000.0,301000.0,248000.0,187000.0,168000.0,143000.0,117000.0,110000.0,109000.0,121000.0,141000.0,164000.0,153000.0,124000.0,89100.0,83700.0,103000.0,105000.0,119000.0,141000.0,177000.0,212000.0,238000.0,235000.0,201000.0,173000.0,186000.0,246000.0,342000.0,404000.0,409000.0,390000.0,353000.0,214000.0,112000.0,105000.0,94900.0,78800.0]}},\"id\":\"51cbb3d1-9417-41b7-b87d-82c3614e0f85\",\"type\":\"ColumnDataSource\"},{\"attributes\":{\"below\":[{\"id\":\"a043d253-8e1c-4fd8-96d9-88010a244ded\",\"type\":\"DatetimeAxis\"}],\"left\":[{\"id\":\"ea6401bf-114c-4aa2-bd57-7a89996031e3\",\"type\":\"LinearAxis\"}],\"plot_height\":500,\"plot_width\":700,\"renderers\":[{\"id\":\"a043d253-8e1c-4fd8-96d9-88010a244ded\",\"type\":\"DatetimeAxis\"},{\"id\":\"f7e5d968-5934-49b1-aab2-74e832c3d861\",\"type\":\"Grid\"},{\"id\":\"ea6401bf-114c-4aa2-bd57-7a89996031e3\",\"type\":\"LinearAxis\"},{\"id\":\"2140e8b6-d6ff-4299-ac97-ac148472a0ea\",\"type\":\"Grid\"},{\"id\":\"60f90e51-f5e6-40b7-af52-3f6f1d6f13a8\",\"type\":\"PolyAnnotation\"},{\"id\":\"8c88c0ae-dfee-4628-9a5a-74795123f165\",\"type\":\"BoxAnnotation\"},{\"id\":\"fd2fbf48-f1de-4cda-bde7-3dec83e69e91\",\"type\":\"GlyphRenderer\"},{\"id\":\"02014af5-9004-4bfc-9203-669d1681a4f2\",\"type\":\"GlyphRenderer\"}],\"title\":{\"id\":\"df5333ae-dd7c-4196-8959-34c66251a567\",\"type\":\"Title\"},\"tool_events\":{\"id\":\"10a5edfb-b547-4437-b787-36520e16be91\",\"type\":\"ToolEvents\"},\"toolbar\":{\"id\":\"060c7d02-d85a-4999-a6d2-65cca13eabd7\",\"type\":\"Toolbar\"},\"x_range\":{\"id\":\"e6e68a25-7a68-40f5-98dc-5a02fd8d2d0f\",\"type\":\"DataRange1d\"},\"y_range\":{\"id\":\"e2e1e252-b0e1-4287-968e-6cd9291f2e98\",\"type\":\"DataRange1d\"}},\"id\":\"8268f714-60f3-449f-bd27-b0f407559a92\",\"subtype\":\"Figure\",\"type\":\"Plot\"},{\"attributes\":{\"months\":[0,2,4,6,8,10]},\"id\":\"7eb65a86-a18b-48ed-9385-3d9cf05a6275\",\"type\":\"MonthsTicker\"},{\"attributes\":{},\"id\":\"78743f68-e553-4e68-9621-79d2a9de5415\",\"type\":\"DatetimeTickFormatter\"},{\"attributes\":{\"plot\":null,\"text\":\"Ohio River Station 03292494\"},\"id\":\"df5333ae-dd7c-4196-8959-34c66251a567\",\"type\":\"Title\"},{\"attributes\":{\"callback\":null},\"id\":\"e6e68a25-7a68-40f5-98dc-5a02fd8d2d0f\",\"type\":\"DataRange1d\"},{\"attributes\":{\"months\":[0,1,2,3,4,5,6,7,8,9,10,11]},\"id\":\"689ba2fd-55d8-4cc8-ba60-9a17477074ae\",\"type\":\"MonthsTicker\"},{\"attributes\":{},\"id\":\"10a5edfb-b547-4437-b787-36520e16be91\",\"type\":\"ToolEvents\"},{\"attributes\":{\"active_drag\":\"auto\",\"active_scroll\":\"auto\",\"active_tap\":\"auto\",\"tools\":[{\"id\":\"fb457318-fc84-4580-984a-ab6de9cac43f\",\"type\":\"PanTool\"},{\"id\":\"8f1c8457-3ff3-4ec2-9a43-c2569d79419a\",\"type\":\"LassoSelectTool\"},{\"id\":\"0521141c-eaf4-4e72-9d75-9e1cfd017cdb\",\"type\":\"BoxSelectTool\"},{\"id\":\"4edb7997-dd6c-47a4-9320-522d63453d79\",\"type\":\"TapTool\"},{\"id\":\"bafe5cb9-ff70-47bb-813a-9a63c7be7adb\",\"type\":\"ZoomInTool\"},{\"id\":\"6751f73b-09a3-4a9f-91bd-178a98a638f4\",\"type\":\"ZoomOutTool\"},{\"id\":\"b9428bc7-3da2-4be3-9b1e-d188146c358a\",\"type\":\"HoverTool\"}]},\"id\":\"060c7d02-d85a-4999-a6d2-65cca13eabd7\",\"type\":\"Toolbar\"},{\"attributes\":{\"fill_alpha\":{\"value\":0.5},\"fill_color\":{\"value\":\"navy\"},\"line_alpha\":{\"value\":0.5},\"line_color\":{\"value\":\"navy\"},\"size\":{\"units\":\"screen\",\"value\":8},\"x\":{\"field\":\"dates\"},\"y\":{\"field\":\"discharges\"}},\"id\":\"614605ab-9111-4b02-a812-40c826283549\",\"type\":\"Circle\"},{\"attributes\":{\"formatter\":{\"id\":\"78743f68-e553-4e68-9621-79d2a9de5415\",\"type\":\"DatetimeTickFormatter\"},\"plot\":{\"id\":\"8268f714-60f3-449f-bd27-b0f407559a92\",\"subtype\":\"Figure\",\"type\":\"Plot\"},\"ticker\":{\"id\":\"9ada0403-92b8-49b8-90b8-c0edbb2f6c40\",\"type\":\"DatetimeTicker\"}},\"id\":\"a043d253-8e1c-4fd8-96d9-88010a244ded\",\"type\":\"DatetimeAxis\"},{\"attributes\":{\"callback\":null},\"id\":\"e2e1e252-b0e1-4287-968e-6cd9291f2e98\",\"type\":\"DataRange1d\"},{\"attributes\":{\"num_minor_ticks\":5},\"id\":\"9ada0403-92b8-49b8-90b8-c0edbb2f6c40\",\"type\":\"DatetimeTicker\"},{\"attributes\":{\"plot\":{\"id\":\"8268f714-60f3-449f-bd27-b0f407559a92\",\"subtype\":\"Figure\",\"type\":\"Plot\"},\"ticker\":{\"id\":\"9ada0403-92b8-49b8-90b8-c0edbb2f6c40\",\"type\":\"DatetimeTicker\"}},\"id\":\"f7e5d968-5934-49b1-aab2-74e832c3d861\",\"type\":\"Grid\"},{\"attributes\":{\"axis_label\":\"Streamflow (cfs)\",\"formatter\":{\"id\":\"7287510f-7135-44fb-ae2e-3528561dc325\",\"type\":\"NumeralTickFormatter\"},\"plot\":{\"id\":\"8268f714-60f3-449f-bd27-b0f407559a92\",\"subtype\":\"Figure\",\"type\":\"Plot\"},\"ticker\":{\"id\":\"0c76cc0b-15bf-49fd-a4f5-cc22016bde44\",\"type\":\"BasicTicker\"}},\"id\":\"ea6401bf-114c-4aa2-bd57-7a89996031e3\",\"type\":\"LinearAxis\"},{\"attributes\":{},\"id\":\"0c76cc0b-15bf-49fd-a4f5-cc22016bde44\",\"type\":\"BasicTicker\"},{\"attributes\":{\"dimension\":1,\"plot\":{\"id\":\"8268f714-60f3-449f-bd27-b0f407559a92\",\"subtype\":\"Figure\",\"type\":\"Plot\"},\"ticker\":{\"id\":\"0c76cc0b-15bf-49fd-a4f5-cc22016bde44\",\"type\":\"BasicTicker\"}},\"id\":\"2140e8b6-d6ff-4299-ac97-ac148472a0ea\",\"type\":\"Grid\"},{\"attributes\":{\"fill_alpha\":{\"value\":0.1},\"fill_color\":{\"value\":\"#1f77b4\"},\"line_alpha\":{\"value\":0.1},\"line_color\":{\"value\":\"#1f77b4\"},\"size\":{\"units\":\"screen\",\"value\":8},\"x\":{\"field\":\"dates\"},\"y\":{\"field\":\"discharges\"}},\"id\":\"dfc8517a-8a19-4ed3-88b3-5f242911f5cd\",\"type\":\"Circle\"},{\"attributes\":{\"line_alpha\":{\"value\":0.1},\"line_color\":{\"value\":\"#1f77b4\"},\"x\":{\"field\":\"dates\"},\"y\":{\"field\":\"discharges\"}},\"id\":\"e45a7626-de08-4460-8ed0-76e76783b5c7\",\"type\":\"Line\"},{\"attributes\":{\"plot\":{\"id\":\"8268f714-60f3-449f-bd27-b0f407559a92\",\"subtype\":\"Figure\",\"type\":\"Plot\"}},\"id\":\"fb457318-fc84-4580-984a-ab6de9cac43f\",\"type\":\"PanTool\"},{\"attributes\":{\"callback\":null,\"overlay\":{\"id\":\"60f90e51-f5e6-40b7-af52-3f6f1d6f13a8\",\"type\":\"PolyAnnotation\"},\"plot\":{\"id\":\"8268f714-60f3-449f-bd27-b0f407559a92\",\"subtype\":\"Figure\",\"type\":\"Plot\"}},\"id\":\"8f1c8457-3ff3-4ec2-9a43-c2569d79419a\",\"type\":\"LassoSelectTool\"},{\"attributes\":{\"fill_alpha\":{\"value\":0.5},\"fill_color\":{\"value\":\"lightgrey\"},\"level\":\"overlay\",\"line_alpha\":{\"value\":1.0},\"line_color\":{\"value\":\"black\"},\"line_dash\":[4,4],\"line_width\":{\"value\":2},\"plot\":null,\"xs_units\":\"screen\",\"ys_units\":\"screen\"},\"id\":\"60f90e51-f5e6-40b7-af52-3f6f1d6f13a8\",\"type\":\"PolyAnnotation\"},{\"attributes\":{\"days\":[1,15]},\"id\":\"3811b0a3-afa2-4e97-a49e-1fb119c4761c\",\"type\":\"DaysTicker\"},{\"attributes\":{\"plot\":{\"id\":\"8268f714-60f3-449f-bd27-b0f407559a92\",\"subtype\":\"Figure\",\"type\":\"Plot\"}},\"id\":\"bafe5cb9-ff70-47bb-813a-9a63c7be7adb\",\"type\":\"ZoomInTool\"},{\"attributes\":{\"plot\":{\"id\":\"8268f714-60f3-449f-bd27-b0f407559a92\",\"subtype\":\"Figure\",\"type\":\"Plot\"}},\"id\":\"6751f73b-09a3-4a9f-91bd-178a98a638f4\",\"type\":\"ZoomOutTool\"}],\"root_ids\":[\"8268f714-60f3-449f-bd27-b0f407559a92\"]},\"title\":\"Bokeh Application\",\"version\":\"0.12.5\"}};\n",
       "            var render_items = [{\"docid\":\"b040718d-d793-4b6b-b48a-8899cb4ef2f5\",\"elementid\":\"afca190e-c76e-41d0-ba73-c033291a526d\",\"modelid\":\"8268f714-60f3-449f-bd27-b0f407559a92\"}];\n",
       "            \n",
       "            Bokeh.embed.embed_items(docs_json, render_items);\n",
       "          };\n",
       "          if (document.readyState != \"loading\") fn();\n",
       "          else document.addEventListener(\"DOMContentLoaded\", fn);\n",
       "        })();\n",
       "      },\n",
       "      function(Bokeh) {\n",
       "      }\n",
       "    ];\n",
       "  \n",
       "    function run_inline_js() {\n",
       "      \n",
       "      if ((window.Bokeh !== undefined) || (force === true)) {\n",
       "        for (var i = 0; i < inline_js.length; i++) {\n",
       "          inline_js[i](window.Bokeh);\n",
       "        }if (force === true) {\n",
       "          display_loaded();\n",
       "        }} else if (Date.now() < window._bokeh_timeout) {\n",
       "        setTimeout(run_inline_js, 100);\n",
       "      } else if (!window._bokeh_failed_load) {\n",
       "        console.log(\"Bokeh: BokehJS failed to load within specified timeout.\");\n",
       "        window._bokeh_failed_load = true;\n",
       "      } else if (force !== true) {\n",
       "        var cell = $(document.getElementById(\"afca190e-c76e-41d0-ba73-c033291a526d\")).parents('.cell').data().cell;\n",
       "        cell.output_area.append_execute_result(NB_LOAD_WARNING)\n",
       "      }\n",
       "  \n",
       "    }\n",
       "  \n",
       "    if (window._bokeh_is_loading === 0) {\n",
       "      console.log(\"Bokeh: BokehJS loaded, going straight to plotting\");\n",
       "      run_inline_js();\n",
       "    } else {\n",
       "      load_libs(js_urls, function() {\n",
       "        console.log(\"Bokeh: BokehJS plotting callback run at\", now());\n",
       "        run_inline_js();\n",
       "      });\n",
       "    }\n",
       "  }(this));\n",
       "</script>"
      ]
     },
     "metadata": {},
     "output_type": "display_data"
    }
   ],
   "source": [
    "#output_file(\"discharges.html\")\n",
    "\n",
    "TOOLs = \"pan,lasso_select,box_select,tap,zoom_in,zoom_out\"\n",
    "\n",
    "source = ColumnDataSource(data=dict(dates=dates,discharges=discharges))\n",
    "\n",
    "plot_fig = figure(plot_width=700, plot_height=500, title=\"Ohio River Station 03292494\", x_axis_type='datetime', tools=TOOLs)\n",
    "\n",
    "plot_fig.circle('dates', 'discharges', size=8, color='navy', alpha=0.5, source=source)\n",
    "plot_fig.line('dates','discharges', color='navy', source=source)\n",
    "\n",
    "hover = HoverTool(\n",
    "    tooltips=[\n",
    "        ('Discharge', '@discharges')\n",
    "    ])\n",
    "\n",
    "#add the hover tool tips\n",
    "plot_fig.add_tools(hover)\n",
    "\n",
    "#format the axes\n",
    "plot_fig.yaxis.formatter = NumeralTickFormatter(format='0,0')\n",
    "plot_fig.yaxis.axis_label = \"Streamflow (cfs)\"\n",
    "\n",
    "show(plot_fig)"
   ]
  },
  {
   "cell_type": "code",
   "execution_count": 23,
   "metadata": {
    "collapsed": true
   },
   "outputs": [],
   "source": [
    "#disconnect to the sql database\n",
    "conn.close()"
   ]
  },
  {
   "cell_type": "markdown",
   "metadata": {},
   "source": [
    "what if it was stored in a csv? the data is stored as a text file in the data folder. Now based on the file structure there is a data folder where the root of the \n",
    "\n",
    "**More research**\n",
    "look up \n",
    "*click libraries\n",
    "*goey libraries\n",
    "\n",
    "https://pypi.python.org/pypi/Gooey"
   ]
  },
  {
   "cell_type": "markdown",
   "metadata": {},
   "source": [
    "```\n",
    "#get the current working directory\n",
    "path = os.getcwd()\n",
    "file = 'MSDRainGaugeReport25.csv'\n",
    "folder = '\\\\data\\\\'\n",
    "full_file = path+folder+file\n",
    "\n",
    "with open(full_file, 'rt') as csvfile:\n",
    "    read_csv_data = csv.reader(csvfile)\n",
    "    #print(read_csv_data)\n",
    "    for row in read_csv_data:\n",
    "        print(row)\n",
    "```"
   ]
  }
 ],
 "metadata": {
  "kernelspec": {
   "display_name": "Python 3",
   "language": "python",
   "name": "python3"
  },
  "language_info": {
   "codemirror_mode": {
    "name": "ipython",
    "version": 3
   },
   "file_extension": ".py",
   "mimetype": "text/x-python",
   "name": "python",
   "nbconvert_exporter": "python",
   "pygments_lexer": "ipython3",
   "version": "3.6.1"
  }
 },
 "nbformat": 4,
 "nbformat_minor": 2
}

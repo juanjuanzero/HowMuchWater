{
 "cells": [
  {
   "cell_type": "markdown",
   "metadata": {},
   "source": [
    "<h1>How Much Water?</h1>\n",
    "\n",
    "The goal of this project is to download data from an API, parse the data, load it into a local database and create an analytical reports for this data. For this exercise we will be pulling data from the United States Geological Survey (USGS) water service to determine how much *streamflow* was recorded at the Ohio River by the flow meter at the Louisville Water Station (03292494). The user can enter dates of their choosing if they like.\n",
    "\n",
    "**Version**\n",
    "<p>This tool was made with Python 3.6.1 and Jupyter Notebooks 5.0.0</p>\n",
    "<p>A requirements.txt accompanies this file, which defines all of the requirements used (including others) in developing this tool. Be sure to install the requests and bokeh packages into your environment before running the program.</p>\n",
    "\n",
    "**Tools**\n",
    "* *USGS Data* :https://waterservices.usgs.gov/rest/DV-Service.html\n",
    "* *Markdown* :https://guides.github.com/pdfs/markdown-cheatsheet-online.pdf\n",
    "* *USGS Data Requests Helper* :https://waterservices.usgs.gov/rest/DV-Test-Tool.html\n",
    "* *Bokeh* :https://bokeh.pydata.org/en/latest/\n",
    "* *SQLite3* :https://docs.python.org/2/library/sqlite3.html\n",
    "\n",
    "**Special Thanks to**\n",
    "\n",
    "I just wanted to say a very big thanks to all of mentors at Code Louisville who guided, taught and helped me get to this point!\n"
   ]
  },
  {
   "cell_type": "code",
   "execution_count": 1,
   "metadata": {
    "collapsed": true
   },
   "outputs": [],
   "source": [
    "#import pandas as pd\n",
    "#import os\n",
    "import requests\n",
    "import json\n",
    "from datetime import datetime,date\n",
    "from collections import namedtuple\n",
    "import sqlite3\n",
    "from bokeh.io import output_file, show, output_notebook\n",
    "from bokeh.plotting import figure\n",
    "from bokeh.models import HoverTool, NumeralTickFormatter, ColumnDataSource"
   ]
  },
  {
   "cell_type": "markdown",
   "metadata": {},
   "source": [
    "<h2>Getting the Date parameters</h2>\n",
    "\n",
    "So we need to get the date parameters to construct it into a string for our request to the API. We create a function that asks the user to make the request. I also added in some validation so that its in the proper format."
   ]
  },
  {
   "cell_type": "code",
   "execution_count": 2,
   "metadata": {},
   "outputs": [
    {
     "name": "stdout",
     "output_type": "stream",
     "text": [
      "Enter End Date in YYYY-MM-DD format: 2018-03-12\n",
      "Enter Start Date in YYYY-MM-DD format: 2016-01-01\n",
      "\n",
      "Start Date: 2016-01-01\n",
      "End Date: 2018-03-12\n",
      "\n",
      "Are you happy with these parameters? [Y/n] y\n"
     ]
    }
   ],
   "source": [
    "site = '03292494'\n",
    "tbl_name = 'site_'+site\n",
    "\n",
    "def enterdate(text_date):\n",
    "    #create a condition where the user is asked for a correct date\n",
    "    exit = False\n",
    "    while(not exit):\n",
    "        date_entry = input(f'Enter {text_date} in YYYY-MM-DD format: ')\n",
    "        try:\n",
    "            year, month, day = map(int, date_entry.split('-'))\n",
    "            try:\n",
    "                date1 = date(year, month, day)\n",
    "                exit = True\n",
    "                return date1\n",
    "            except ValueError:\n",
    "                print(f\"That is not a valid {text_date}, please enter a date in the YYYY-MM-DD format\")\n",
    "        except ValueError:\n",
    "            print(f\"That is not a valid {text_date}, please enter a date in the YYYY-MM-DD format\")\n",
    "\n",
    "#create a continous loop so that the user will be asked if they\n",
    "out = False\n",
    "while(not out):\n",
    "    #set end date variable\n",
    "    enddate = str(enterdate(\"End Date\"))\n",
    "\n",
    "    #check if the end date is valid, if not reset it to today\n",
    "    checkdate = datetime.strptime(enddate, '%Y-%m-%d').date()\n",
    "    if checkdate > date.today():\n",
    "        enddate = str(date.today())\n",
    "        print(\"Great Scott! that date is way into the future! I'll reset it to {}.\".format(enddate))\n",
    "\n",
    "    startdate = str(enterdate(\"Start Date\"))\n",
    "\n",
    "    #check if the end date is greater than the start date\n",
    "    end_date = datetime.strptime(enddate, '%Y-%m-%d').date()\n",
    "    start_date = datetime.strptime(startdate, '%Y-%m-%d').date()\n",
    "\n",
    "    if end_date <= start_date:\n",
    "        one_week = timedelta(weeks=1)\n",
    "        start_date = end_date - one_week\n",
    "        print(f'The Start Date should be less than the End date\\nI set the value to {start_date}')\n",
    "        startdate = str(start_date)\n",
    "    \n",
    "    #allow user to check date params\n",
    "    print(f'\\nStart Date: {startdate}\\nEnd Date: {enddate}\\n')\n",
    "    escape = input('Are you happy with these parameters? [Y/n] ').strip('').lower()\n",
    "    if escape == 'y':\n",
    "        out = True\n",
    "        url = 'http://waterservices.usgs.gov/nwis/dv/?format=json&indent=on&sites={}&startDT={}&endDT={}&siteStatus=all'.format(site,startdate,enddate)\n",
    "        #print(url)\n",
    "\n",
    "#print(enddate)\n",
    "\n",
    "\n"
   ]
  },
  {
   "cell_type": "markdown",
   "metadata": {},
   "source": [
    "<h2>Also, check if the response of the request</h2>"
   ]
  },
  {
   "cell_type": "code",
   "execution_count": 3,
   "metadata": {},
   "outputs": [
    {
     "name": "stdout",
     "output_type": "stream",
     "text": [
      "The request returned some data\n"
     ]
    }
   ],
   "source": [
    "test_url = requests.get(url)\n",
    "if test_url.status_code != 200:\n",
    "    print(f'Hey there, something went wrong with our request.\\nIt returned as status code of {test_url.status_code}.\\nAre we sure about {site} as the site name?')\n",
    "else:\n",
    "    print(\"The request returned some data\")"
   ]
  },
  {
   "cell_type": "markdown",
   "metadata": {},
   "source": [
    "<h2>Parsing</h2>\n",
    "\n",
    "Here we use the json library to get the text response and access the values. I printed them out here so we can check if we are getting the correct response."
   ]
  },
  {
   "cell_type": "code",
   "execution_count": 4,
   "metadata": {
    "scrolled": false
   },
   "outputs": [
    {
     "name": "stdout",
     "output_type": "stream",
     "text": [
      "386000\n",
      "{'value': '227000', 'qualifiers': ['P'], 'dateTime': '2016-01-04T00:00:00.000'}\n"
     ]
    }
   ],
   "source": [
    "response_url = requests.get(url)\n",
    "parsed_json = json.loads(response_url.text)\n",
    "\n",
    "#print(parsed_json['value']['timeSeries'][0]['values'][0]['value'])\n",
    "#print()\n",
    "\n",
    "#checking the values so that we can get to the data we want.\n",
    "print(parsed_json['value']['timeSeries'][0]['values'][0]['value'][0]['value'])\n",
    "print(parsed_json['value']['timeSeries'][0]['values'][0]['value'][3])\n",
    "#print(parsed_json)"
   ]
  },
  {
   "cell_type": "code",
   "execution_count": 5,
   "metadata": {
    "collapsed": true,
    "scrolled": true
   },
   "outputs": [],
   "source": [
    "#save the list of values in a variable. (because...)\n",
    "daily_dis = parsed_json['value']['timeSeries'][0]['values'][0]['value']\n",
    "\n",
    "#lets look at the data...\n",
    "def insp_Request(request_list):\n",
    "    for value in request_list:\n",
    "        #get the current value of the date and change it to a datetime object, well actually the datetime object should be stored in sqllite.\n",
    "        date_text = value['dateTime'][:10]\n",
    "        #date = datetime.strptime(date_text, '%Y-%m-%d').date()\n",
    "\n",
    "        #get the depth and cast it as a string\n",
    "        discharge = int(value['value'])\n",
    "\n",
    "        #get the qualifier for the data you downloaded. note that P means \"provisional\"\n",
    "        qualifier = value['qualifiers'][0]\n",
    "\n",
    "        print('Date: {} \\tDischarge: {}\\t Qualifier: {}'.format(date_text,discharge,qualifier))\n",
    "\n",
    "#insp_Request(daily_dis)"
   ]
  },
  {
   "cell_type": "markdown",
   "metadata": {},
   "source": [
    "<h2>Using the NamedTuple</h2>\n",
    "\n",
    "So now that we have our data where we want it we can now load it into a SQL database. But before we do that we should use the namedtuple parameter in case we had to handle a larger table to load into sql"
   ]
  },
  {
   "cell_type": "code",
   "execution_count": 6,
   "metadata": {},
   "outputs": [
    {
     "name": "stdout",
     "output_type": "stream",
     "text": [
      "386000\n",
      "2016-01-01\n",
      "P\n"
     ]
    }
   ],
   "source": [
    "daily_discharge = namedtuple('daily_discharge','date, discharge, qualifier')\n",
    "discharge_list = []\n",
    "\n",
    "#lets now pack that data into a namedtuple...\n",
    "for val in daily_dis:\n",
    "    #get the current value of the date and change it to a datetime object\n",
    "    date_text = val['dateTime'][:10]\n",
    "    #date = datetime.strptime(date_text, '%Y-%m-%d').date()\n",
    "    \n",
    "    #get the depth and cast it as a string\n",
    "    discharge = int(val['value'])\n",
    "    \n",
    "    #get the qualifier for the data you downloaded. note that P means \"provisional\"\n",
    "    qualifier = val['qualifiers'][0]\n",
    "    \n",
    "    discharge_list.append(daily_discharge(date_text,discharge,qualifier))\n",
    "    \n",
    "#check how you can access the namedtuple\n",
    "print(discharge_list[0].discharge)\n",
    "print(discharge_list[0].date)\n",
    "print(discharge_list[0].qualifier)"
   ]
  },
  {
   "cell_type": "code",
   "execution_count": 7,
   "metadata": {},
   "outputs": [
    {
     "name": "stdout",
     "output_type": "stream",
     "text": [
      "2016-01-01\n",
      "2018-03-11\n"
     ]
    }
   ],
   "source": [
    "#checking the range of what we are about to input into the database.\n",
    "print(discharge_list[0].date)\n",
    "print(discharge_list[len(discharge_list)-1].date)"
   ]
  },
  {
   "cell_type": "markdown",
   "metadata": {},
   "source": [
    "<h2>Loading into the SQLite Database</h2>\n",
    "\n",
    "We load it into the SQL database, take note that since we are loading this into a SQLite database. You should know that SQLite does not store dates as date types. Its stored as REAL, TEXT or INTERGER. Lets use integer and create a database using a cursor methon on the sql database object. Then we call sql statements using the execute command.\n",
    "\n",
    "*Check this link for more info: https://docs.python.org/2/library/sqlite3.html*\n",
    "\n",
    "**Design Decision**\n",
    "\n",
    "When i was thinking about the design of this i wanted the user to be able to run this script again and load as much data they wanted *or needed* in the database for reporting. So the next step goes through checking if the table already exists and then later checking if the record for that table already exists to prevent duplication."
   ]
  },
  {
   "cell_type": "code",
   "execution_count": 8,
   "metadata": {},
   "outputs": [
    {
     "name": "stdout",
     "output_type": "stream",
     "text": [
      "The table site_03292494 already exist\n"
     ]
    }
   ],
   "source": [
    "conn = sqlite3.connect('daily_discharge.db')\n",
    "cur = conn.cursor()\n",
    "\n",
    "\n",
    "sql_text = (tbl_name,)\n",
    "#check if the table exists, TRUE if the select statement returns nothing, FALSE if it returns something.  \n",
    "Not_exists = cur.execute('SELECT name FROM sqlite_master WHERE type=\"table\" AND name=?',sql_text) is None\n",
    "\n",
    "#if the table exists do nothing\n",
    "if(Not_exists):\n",
    "    print('it does not exist')\n",
    "    #create the table if it does not exist\n",
    "    cur.execute('''CREATE TABLE ?(date TEXT, discharge REAL, qualifier TEXT)''',sql_text)\n",
    "    cur.commit()\n",
    "else:\n",
    "    print('The table {} already exist'.format(sql_text[0]))\n",
    "    #insert the values of the table into the created table\n"
   ]
  },
  {
   "cell_type": "markdown",
   "metadata": {},
   "source": [
    "<h2>Preventing Duplicate Records</h2>\n",
    "This is a time series dataset for each day of the station and there could a point where we request data that is already in the dataset. So lets run a few sql commands to the existing database to see if the data is already there. If it does, then we just ignore it (#needResearch). If not, then we insert that record."
   ]
  },
  {
   "cell_type": "code",
   "execution_count": 9,
   "metadata": {
    "collapsed": true
   },
   "outputs": [],
   "source": [
    "for record in discharge_list:\n",
    "    date = (tbl_name, record.date)\n",
    "    #print(date)\n",
    "    sql_stmt = f'SELECT date FROM {date[0]} WHERE date=\"{date[1]}\"'\n",
    "    check = cur.execute(sql_stmt).fetchone() is not None\n",
    "    if(check):\n",
    "        #The record is there...so continue to the next record.\n",
    "        #print(\"returned True, is not None\")\n",
    "        continue\n",
    "        #print(\"this is ignored\")\n",
    "    else:\n",
    "        #The record is not there so insert it\n",
    "        sql_stmt = f'INSERT INTO {date[0]} VALUES(?,?,?)'\n",
    "        value = (record.date, record.discharge, record.qualifier)\n",
    "        #print(\"returned False, the record is not there\")\n",
    "        cur.execute(sql_stmt, value)\n",
    "        conn.commit()"
   ]
  },
  {
   "cell_type": "markdown",
   "metadata": {},
   "source": [
    "<h2>Getting Data Back for Reports</h2>\n",
    "Great! Now we have data that can persist through multiple uses! Woop Woop! Next is we get all of the records that we have to see the trend of waterflow that went pass the sensor at the Louisville Water Tower station."
   ]
  },
  {
   "cell_type": "code",
   "execution_count": 20,
   "metadata": {
    "collapsed": true
   },
   "outputs": [],
   "source": [
    "results = cur.execute('SELECT * FROM site_03292494 ORDER BY date DESC')\n",
    "\n",
    "dates = []\n",
    "discharges = []\n",
    "for row in results:\n",
    "    #print('Date: {} \\tDischarge: {} \\t Qualifier:{}'.format(row[0],row[1],row[2]))\n",
    "    if row[1] > 0:\n",
    "        discharges.append(row[1])\n",
    "        date_text = row[0]\n",
    "        date = datetime.strptime(date_text, '%Y-%m-%d').date()\n",
    "        dates.append(date)\n",
    "    else:\n",
    "        continue\n",
    "    \n",
    "    \n",
    "    \n",
    "\n"
   ]
  },
  {
   "cell_type": "markdown",
   "metadata": {},
   "source": [
    "<h2>Using Bokeh for Plots</h2>\n",
    "In order to see that data we just pulled I used Bokeh to plot it out."
   ]
  },
  {
   "cell_type": "code",
   "execution_count": 11,
   "metadata": {},
   "outputs": [
    {
     "data": {
      "text/html": [
       "\n",
       "    <div class=\"bk-root\">\n",
       "        <a href=\"http://bokeh.pydata.org\" target=\"_blank\" class=\"bk-logo bk-logo-small bk-logo-notebook\"></a>\n",
       "        <span id=\"a746ef29-962d-4488-8b73-af8ced1d171e\">Loading BokehJS ...</span>\n",
       "    </div>"
      ]
     },
     "metadata": {},
     "output_type": "display_data"
    },
    {
     "data": {
      "application/javascript": [
       "\n",
       "(function(global) {\n",
       "  function now() {\n",
       "    return new Date();\n",
       "  }\n",
       "\n",
       "  var force = true;\n",
       "\n",
       "  if (typeof (window._bokeh_onload_callbacks) === \"undefined\" || force === true) {\n",
       "    window._bokeh_onload_callbacks = [];\n",
       "    window._bokeh_is_loading = undefined;\n",
       "  }\n",
       "\n",
       "\n",
       "  \n",
       "  if (typeof (window._bokeh_timeout) === \"undefined\" || force === true) {\n",
       "    window._bokeh_timeout = Date.now() + 5000;\n",
       "    window._bokeh_failed_load = false;\n",
       "  }\n",
       "\n",
       "  var NB_LOAD_WARNING = {'data': {'text/html':\n",
       "     \"<div style='background-color: #fdd'>\\n\"+\n",
       "     \"<p>\\n\"+\n",
       "     \"BokehJS does not appear to have successfully loaded. If loading BokehJS from CDN, this \\n\"+\n",
       "     \"may be due to a slow or bad network connection. Possible fixes:\\n\"+\n",
       "     \"</p>\\n\"+\n",
       "     \"<ul>\\n\"+\n",
       "     \"<li>re-rerun `output_notebook()` to attempt to load from CDN again, or</li>\\n\"+\n",
       "     \"<li>use INLINE resources instead, as so:</li>\\n\"+\n",
       "     \"</ul>\\n\"+\n",
       "     \"<code>\\n\"+\n",
       "     \"from bokeh.resources import INLINE\\n\"+\n",
       "     \"output_notebook(resources=INLINE)\\n\"+\n",
       "     \"</code>\\n\"+\n",
       "     \"</div>\"}};\n",
       "\n",
       "  function display_loaded() {\n",
       "    if (window.Bokeh !== undefined) {\n",
       "      var el = document.getElementById(\"a746ef29-962d-4488-8b73-af8ced1d171e\");\n",
       "      el.textContent = \"BokehJS \" + Bokeh.version + \" successfully loaded.\";\n",
       "    } else if (Date.now() < window._bokeh_timeout) {\n",
       "      setTimeout(display_loaded, 100)\n",
       "    }\n",
       "  }\n",
       "\n",
       "  function run_callbacks() {\n",
       "    window._bokeh_onload_callbacks.forEach(function(callback) { callback() });\n",
       "    delete window._bokeh_onload_callbacks\n",
       "    console.info(\"Bokeh: all callbacks have finished\");\n",
       "  }\n",
       "\n",
       "  function load_libs(js_urls, callback) {\n",
       "    window._bokeh_onload_callbacks.push(callback);\n",
       "    if (window._bokeh_is_loading > 0) {\n",
       "      console.log(\"Bokeh: BokehJS is being loaded, scheduling callback at\", now());\n",
       "      return null;\n",
       "    }\n",
       "    if (js_urls == null || js_urls.length === 0) {\n",
       "      run_callbacks();\n",
       "      return null;\n",
       "    }\n",
       "    console.log(\"Bokeh: BokehJS not loaded, scheduling load and callback at\", now());\n",
       "    window._bokeh_is_loading = js_urls.length;\n",
       "    for (var i = 0; i < js_urls.length; i++) {\n",
       "      var url = js_urls[i];\n",
       "      var s = document.createElement('script');\n",
       "      s.src = url;\n",
       "      s.async = false;\n",
       "      s.onreadystatechange = s.onload = function() {\n",
       "        window._bokeh_is_loading--;\n",
       "        if (window._bokeh_is_loading === 0) {\n",
       "          console.log(\"Bokeh: all BokehJS libraries loaded\");\n",
       "          run_callbacks()\n",
       "        }\n",
       "      };\n",
       "      s.onerror = function() {\n",
       "        console.warn(\"failed to load library \" + url);\n",
       "      };\n",
       "      console.log(\"Bokeh: injecting script tag for BokehJS library: \", url);\n",
       "      document.getElementsByTagName(\"head\")[0].appendChild(s);\n",
       "    }\n",
       "  };var element = document.getElementById(\"a746ef29-962d-4488-8b73-af8ced1d171e\");\n",
       "  if (element == null) {\n",
       "    console.log(\"Bokeh: ERROR: autoload.js configured with elementid 'a746ef29-962d-4488-8b73-af8ced1d171e' but no matching script tag was found. \")\n",
       "    return false;\n",
       "  }\n",
       "\n",
       "  var js_urls = [\"https://cdn.pydata.org/bokeh/release/bokeh-0.12.5.min.js\", \"https://cdn.pydata.org/bokeh/release/bokeh-widgets-0.12.5.min.js\"];\n",
       "\n",
       "  var inline_js = [\n",
       "    function(Bokeh) {\n",
       "      Bokeh.set_log_level(\"info\");\n",
       "    },\n",
       "    \n",
       "    function(Bokeh) {\n",
       "      \n",
       "    },\n",
       "    \n",
       "    function(Bokeh) {\n",
       "      \n",
       "      document.getElementById(\"a746ef29-962d-4488-8b73-af8ced1d171e\").textContent = \"BokehJS is loading...\";\n",
       "    },\n",
       "    function(Bokeh) {\n",
       "      console.log(\"Bokeh: injecting CSS: https://cdn.pydata.org/bokeh/release/bokeh-0.12.5.min.css\");\n",
       "      Bokeh.embed.inject_css(\"https://cdn.pydata.org/bokeh/release/bokeh-0.12.5.min.css\");\n",
       "      console.log(\"Bokeh: injecting CSS: https://cdn.pydata.org/bokeh/release/bokeh-widgets-0.12.5.min.css\");\n",
       "      Bokeh.embed.inject_css(\"https://cdn.pydata.org/bokeh/release/bokeh-widgets-0.12.5.min.css\");\n",
       "    }\n",
       "  ];\n",
       "\n",
       "  function run_inline_js() {\n",
       "    \n",
       "    if ((window.Bokeh !== undefined) || (force === true)) {\n",
       "      for (var i = 0; i < inline_js.length; i++) {\n",
       "        inline_js[i](window.Bokeh);\n",
       "      }if (force === true) {\n",
       "        display_loaded();\n",
       "      }} else if (Date.now() < window._bokeh_timeout) {\n",
       "      setTimeout(run_inline_js, 100);\n",
       "    } else if (!window._bokeh_failed_load) {\n",
       "      console.log(\"Bokeh: BokehJS failed to load within specified timeout.\");\n",
       "      window._bokeh_failed_load = true;\n",
       "    } else if (force !== true) {\n",
       "      var cell = $(document.getElementById(\"a746ef29-962d-4488-8b73-af8ced1d171e\")).parents('.cell').data().cell;\n",
       "      cell.output_area.append_execute_result(NB_LOAD_WARNING)\n",
       "    }\n",
       "\n",
       "  }\n",
       "\n",
       "  if (window._bokeh_is_loading === 0) {\n",
       "    console.log(\"Bokeh: BokehJS loaded, going straight to plotting\");\n",
       "    run_inline_js();\n",
       "  } else {\n",
       "    load_libs(js_urls, function() {\n",
       "      console.log(\"Bokeh: BokehJS plotting callback run at\", now());\n",
       "      run_inline_js();\n",
       "    });\n",
       "  }\n",
       "}(this));"
      ]
     },
     "metadata": {},
     "output_type": "display_data"
    }
   ],
   "source": [
    "output_notebook()"
   ]
  },
  {
   "cell_type": "code",
   "execution_count": 21,
   "metadata": {},
   "outputs": [
    {
     "data": {
      "text/html": [
       "\n",
       "\n",
       "    <div class=\"bk-root\">\n",
       "        <div class=\"bk-plotdiv\" id=\"8efcb326-08cf-4378-b3f1-2189b6a65479\"></div>\n",
       "    </div>\n",
       "<script type=\"text/javascript\">\n",
       "  \n",
       "  (function(global) {\n",
       "    function now() {\n",
       "      return new Date();\n",
       "    }\n",
       "  \n",
       "    var force = false;\n",
       "  \n",
       "    if (typeof (window._bokeh_onload_callbacks) === \"undefined\" || force === true) {\n",
       "      window._bokeh_onload_callbacks = [];\n",
       "      window._bokeh_is_loading = undefined;\n",
       "    }\n",
       "  \n",
       "  \n",
       "    \n",
       "    if (typeof (window._bokeh_timeout) === \"undefined\" || force === true) {\n",
       "      window._bokeh_timeout = Date.now() + 0;\n",
       "      window._bokeh_failed_load = false;\n",
       "    }\n",
       "  \n",
       "    var NB_LOAD_WARNING = {'data': {'text/html':\n",
       "       \"<div style='background-color: #fdd'>\\n\"+\n",
       "       \"<p>\\n\"+\n",
       "       \"BokehJS does not appear to have successfully loaded. If loading BokehJS from CDN, this \\n\"+\n",
       "       \"may be due to a slow or bad network connection. Possible fixes:\\n\"+\n",
       "       \"</p>\\n\"+\n",
       "       \"<ul>\\n\"+\n",
       "       \"<li>re-rerun `output_notebook()` to attempt to load from CDN again, or</li>\\n\"+\n",
       "       \"<li>use INLINE resources instead, as so:</li>\\n\"+\n",
       "       \"</ul>\\n\"+\n",
       "       \"<code>\\n\"+\n",
       "       \"from bokeh.resources import INLINE\\n\"+\n",
       "       \"output_notebook(resources=INLINE)\\n\"+\n",
       "       \"</code>\\n\"+\n",
       "       \"</div>\"}};\n",
       "  \n",
       "    function display_loaded() {\n",
       "      if (window.Bokeh !== undefined) {\n",
       "        var el = document.getElementById(\"8efcb326-08cf-4378-b3f1-2189b6a65479\");\n",
       "        el.textContent = \"BokehJS \" + Bokeh.version + \" successfully loaded.\";\n",
       "      } else if (Date.now() < window._bokeh_timeout) {\n",
       "        setTimeout(display_loaded, 100)\n",
       "      }\n",
       "    }\n",
       "  \n",
       "    function run_callbacks() {\n",
       "      window._bokeh_onload_callbacks.forEach(function(callback) { callback() });\n",
       "      delete window._bokeh_onload_callbacks\n",
       "      console.info(\"Bokeh: all callbacks have finished\");\n",
       "    }\n",
       "  \n",
       "    function load_libs(js_urls, callback) {\n",
       "      window._bokeh_onload_callbacks.push(callback);\n",
       "      if (window._bokeh_is_loading > 0) {\n",
       "        console.log(\"Bokeh: BokehJS is being loaded, scheduling callback at\", now());\n",
       "        return null;\n",
       "      }\n",
       "      if (js_urls == null || js_urls.length === 0) {\n",
       "        run_callbacks();\n",
       "        return null;\n",
       "      }\n",
       "      console.log(\"Bokeh: BokehJS not loaded, scheduling load and callback at\", now());\n",
       "      window._bokeh_is_loading = js_urls.length;\n",
       "      for (var i = 0; i < js_urls.length; i++) {\n",
       "        var url = js_urls[i];\n",
       "        var s = document.createElement('script');\n",
       "        s.src = url;\n",
       "        s.async = false;\n",
       "        s.onreadystatechange = s.onload = function() {\n",
       "          window._bokeh_is_loading--;\n",
       "          if (window._bokeh_is_loading === 0) {\n",
       "            console.log(\"Bokeh: all BokehJS libraries loaded\");\n",
       "            run_callbacks()\n",
       "          }\n",
       "        };\n",
       "        s.onerror = function() {\n",
       "          console.warn(\"failed to load library \" + url);\n",
       "        };\n",
       "        console.log(\"Bokeh: injecting script tag for BokehJS library: \", url);\n",
       "        document.getElementsByTagName(\"head\")[0].appendChild(s);\n",
       "      }\n",
       "    };var element = document.getElementById(\"8efcb326-08cf-4378-b3f1-2189b6a65479\");\n",
       "    if (element == null) {\n",
       "      console.log(\"Bokeh: ERROR: autoload.js configured with elementid '8efcb326-08cf-4378-b3f1-2189b6a65479' but no matching script tag was found. \")\n",
       "      return false;\n",
       "    }\n",
       "  \n",
       "    var js_urls = [];\n",
       "  \n",
       "    var inline_js = [\n",
       "      function(Bokeh) {\n",
       "        (function() {\n",
       "          var fn = function() {\n",
       "            var docs_json = {\"4342d6cd-6204-4fa3-9729-f44883fd1e31\":{\"roots\":{\"references\":[{\"attributes\":{},\"id\":\"b3964e0a-cfe4-4c86-9adf-a02d1f502469\",\"type\":\"DatetimeTickFormatter\"},{\"attributes\":{\"plot\":{\"id\":\"3cfd643e-97aa-4ff7-b97c-cd2fa27516ff\",\"subtype\":\"Figure\",\"type\":\"Plot\"},\"ticker\":{\"id\":\"d7e7d222-ed16-4bb6-8a24-33351e7e278c\",\"type\":\"DatetimeTicker\"}},\"id\":\"81d1a5f2-96cc-47c2-82ed-23c4f59f840b\",\"type\":\"Grid\"},{\"attributes\":{\"axis_label\":\"Streamflow (cfs)\",\"formatter\":{\"id\":\"4906c229-8fcc-40dc-858c-2a101019654b\",\"type\":\"NumeralTickFormatter\"},\"plot\":{\"id\":\"3cfd643e-97aa-4ff7-b97c-cd2fa27516ff\",\"subtype\":\"Figure\",\"type\":\"Plot\"},\"ticker\":{\"id\":\"64f4dfa5-3d94-4db3-b064-3b1ddc3155ab\",\"type\":\"BasicTicker\"}},\"id\":\"1fa9ef9e-d9be-4a42-baad-4327526a75fc\",\"type\":\"LinearAxis\"},{\"attributes\":{\"plot\":{\"id\":\"3cfd643e-97aa-4ff7-b97c-cd2fa27516ff\",\"subtype\":\"Figure\",\"type\":\"Plot\"}},\"id\":\"311d6d4d-8292-4d41-868e-5e876773e4f7\",\"type\":\"PanTool\"},{\"attributes\":{\"base\":24,\"mantissas\":[1,2,4,6,8,12],\"max_interval\":43200000.0,\"min_interval\":3600000.0,\"num_minor_ticks\":0},\"id\":\"6703f062-162a-4d22-87f0-b9b67ac09aea\",\"type\":\"AdaptiveTicker\"},{\"attributes\":{},\"id\":\"64f4dfa5-3d94-4db3-b064-3b1ddc3155ab\",\"type\":\"BasicTicker\"},{\"attributes\":{\"num_minor_ticks\":5},\"id\":\"d7e7d222-ed16-4bb6-8a24-33351e7e278c\",\"type\":\"DatetimeTicker\"},{\"attributes\":{},\"id\":\"7ff36267-9704-43af-8513-f9da33ec5c4b\",\"type\":\"ToolEvents\"},{\"attributes\":{\"formatter\":{\"id\":\"b3964e0a-cfe4-4c86-9adf-a02d1f502469\",\"type\":\"DatetimeTickFormatter\"},\"plot\":{\"id\":\"3cfd643e-97aa-4ff7-b97c-cd2fa27516ff\",\"subtype\":\"Figure\",\"type\":\"Plot\"},\"ticker\":{\"id\":\"d7e7d222-ed16-4bb6-8a24-33351e7e278c\",\"type\":\"DatetimeTicker\"}},\"id\":\"01a1fa69-03b2-48f8-b12b-5b5a209a35ce\",\"type\":\"DatetimeAxis\"},{\"attributes\":{\"below\":[{\"id\":\"01a1fa69-03b2-48f8-b12b-5b5a209a35ce\",\"type\":\"DatetimeAxis\"}],\"left\":[{\"id\":\"1fa9ef9e-d9be-4a42-baad-4327526a75fc\",\"type\":\"LinearAxis\"}],\"plot_height\":500,\"plot_width\":700,\"renderers\":[{\"id\":\"01a1fa69-03b2-48f8-b12b-5b5a209a35ce\",\"type\":\"DatetimeAxis\"},{\"id\":\"81d1a5f2-96cc-47c2-82ed-23c4f59f840b\",\"type\":\"Grid\"},{\"id\":\"1fa9ef9e-d9be-4a42-baad-4327526a75fc\",\"type\":\"LinearAxis\"},{\"id\":\"7455f06c-d3c3-45e0-9ec4-ffee7e1c5fc4\",\"type\":\"Grid\"},{\"id\":\"a8700457-869c-49f5-9b19-3c22b7b17632\",\"type\":\"PolyAnnotation\"},{\"id\":\"c992219c-bf07-48d8-b52f-61fa6e11b1f6\",\"type\":\"BoxAnnotation\"},{\"id\":\"2c1d93bd-2b17-4e12-a2e7-b96703e56016\",\"type\":\"GlyphRenderer\"},{\"id\":\"caf96da8-c4bc-4890-838c-dd125edecfff\",\"type\":\"GlyphRenderer\"}],\"title\":{\"id\":\"271cea8e-09d2-4fae-9a79-a34689122867\",\"type\":\"Title\"},\"tool_events\":{\"id\":\"7ff36267-9704-43af-8513-f9da33ec5c4b\",\"type\":\"ToolEvents\"},\"toolbar\":{\"id\":\"57126c1f-c7c0-4770-91d3-baf7e76b25c2\",\"type\":\"Toolbar\"},\"x_range\":{\"id\":\"f61b5ad3-1006-4079-b59d-146073dc0ed0\",\"type\":\"DataRange1d\"},\"y_range\":{\"id\":\"d32aa282-1746-43d1-97d2-f5dbf38372a8\",\"type\":\"DataRange1d\"}},\"id\":\"3cfd643e-97aa-4ff7-b97c-cd2fa27516ff\",\"subtype\":\"Figure\",\"type\":\"Plot\"},{\"attributes\":{\"callback\":null},\"id\":\"f61b5ad3-1006-4079-b59d-146073dc0ed0\",\"type\":\"DataRange1d\"},{\"attributes\":{\"callback\":null,\"overlay\":{\"id\":\"a8700457-869c-49f5-9b19-3c22b7b17632\",\"type\":\"PolyAnnotation\"},\"plot\":{\"id\":\"3cfd643e-97aa-4ff7-b97c-cd2fa27516ff\",\"subtype\":\"Figure\",\"type\":\"Plot\"}},\"id\":\"df323584-fb17-4157-a19d-16b3d88c5f2e\",\"type\":\"LassoSelectTool\"},{\"attributes\":{\"line_color\":{\"value\":\"navy\"},\"x\":{\"field\":\"dates\"},\"y\":{\"field\":\"discharges\"}},\"id\":\"c858cb23-13c5-4d35-9c64-eb73ec8371f5\",\"type\":\"Line\"},{\"attributes\":{\"data_source\":{\"id\":\"2646beae-b483-4013-b2e8-97c54c8d8974\",\"type\":\"ColumnDataSource\"},\"glyph\":{\"id\":\"c858cb23-13c5-4d35-9c64-eb73ec8371f5\",\"type\":\"Line\"},\"hover_glyph\":null,\"muted_glyph\":null,\"nonselection_glyph\":{\"id\":\"cfa787aa-85aa-4369-ad9d-188276eb75dc\",\"type\":\"Line\"},\"selection_glyph\":null},\"id\":\"caf96da8-c4bc-4890-838c-dd125edecfff\",\"type\":\"GlyphRenderer\"},{\"attributes\":{\"active_drag\":\"auto\",\"active_scroll\":\"auto\",\"active_tap\":\"auto\",\"tools\":[{\"id\":\"311d6d4d-8292-4d41-868e-5e876773e4f7\",\"type\":\"PanTool\"},{\"id\":\"df323584-fb17-4157-a19d-16b3d88c5f2e\",\"type\":\"LassoSelectTool\"},{\"id\":\"45d70ae0-81ab-4560-a1dd-0b0f7d21d6ca\",\"type\":\"BoxSelectTool\"},{\"id\":\"78479aa5-2bc2-499c-bf25-f086f533ddf2\",\"type\":\"TapTool\"},{\"id\":\"2d578335-53ca-4a0b-80bc-75a36ac08dce\",\"type\":\"ZoomInTool\"},{\"id\":\"d776235c-0568-471d-9b57-92b262a5cba7\",\"type\":\"ZoomOutTool\"},{\"id\":\"79206a8c-b0c8-4a03-a83e-121fd4f18644\",\"type\":\"HoverTool\"}]},\"id\":\"57126c1f-c7c0-4770-91d3-baf7e76b25c2\",\"type\":\"Toolbar\"},{\"attributes\":{\"callback\":null,\"plot\":{\"id\":\"3cfd643e-97aa-4ff7-b97c-cd2fa27516ff\",\"subtype\":\"Figure\",\"type\":\"Plot\"},\"tooltips\":[[\"Discharge\",\"@discharges\"]]},\"id\":\"79206a8c-b0c8-4a03-a83e-121fd4f18644\",\"type\":\"HoverTool\"},{\"attributes\":{\"callback\":null},\"id\":\"d32aa282-1746-43d1-97d2-f5dbf38372a8\",\"type\":\"DataRange1d\"},{\"attributes\":{\"max_interval\":500.0,\"num_minor_ticks\":0},\"id\":\"00c373ba-0d75-4312-a4dd-7a38effa3590\",\"type\":\"AdaptiveTicker\"},{\"attributes\":{\"line_alpha\":{\"value\":0.1},\"line_color\":{\"value\":\"#1f77b4\"},\"x\":{\"field\":\"dates\"},\"y\":{\"field\":\"discharges\"}},\"id\":\"cfa787aa-85aa-4369-ad9d-188276eb75dc\",\"type\":\"Line\"},{\"attributes\":{\"months\":[0,6]},\"id\":\"f75242fb-b461-46d3-bf31-07b3dab9e702\",\"type\":\"MonthsTicker\"},{\"attributes\":{\"fill_alpha\":{\"value\":0.5},\"fill_color\":{\"value\":\"navy\"},\"line_alpha\":{\"value\":0.5},\"line_color\":{\"value\":\"navy\"},\"size\":{\"units\":\"screen\",\"value\":8},\"x\":{\"field\":\"dates\"},\"y\":{\"field\":\"discharges\"}},\"id\":\"14e5fdb1-804b-4497-bdc8-5adcee4e4822\",\"type\":\"Circle\"},{\"attributes\":{\"days\":[1,15]},\"id\":\"a62f7e4d-bc2c-4c87-8cd2-72c5a82c4305\",\"type\":\"DaysTicker\"},{\"attributes\":{\"months\":[0,1,2,3,4,5,6,7,8,9,10,11]},\"id\":\"68ed682b-e3bc-466f-83c1-1642669242e3\",\"type\":\"MonthsTicker\"},{\"attributes\":{\"base\":60,\"mantissas\":[1,2,5,10,15,20,30],\"max_interval\":1800000.0,\"min_interval\":1000.0,\"num_minor_ticks\":0},\"id\":\"232ccc7f-0c41-498b-868a-cf1453ce0a33\",\"type\":\"AdaptiveTicker\"},{\"attributes\":{\"bottom_units\":\"screen\",\"fill_alpha\":{\"value\":0.5},\"fill_color\":{\"value\":\"lightgrey\"},\"left_units\":\"screen\",\"level\":\"overlay\",\"line_alpha\":{\"value\":1.0},\"line_color\":{\"value\":\"black\"},\"line_dash\":[4,4],\"line_width\":{\"value\":2},\"plot\":null,\"render_mode\":\"css\",\"right_units\":\"screen\",\"top_units\":\"screen\"},\"id\":\"c992219c-bf07-48d8-b52f-61fa6e11b1f6\",\"type\":\"BoxAnnotation\"},{\"attributes\":{\"plot\":null,\"text\":\"Ohio River Station 03292494\"},\"id\":\"271cea8e-09d2-4fae-9a79-a34689122867\",\"type\":\"Title\"},{\"attributes\":{\"fill_alpha\":{\"value\":0.5},\"fill_color\":{\"value\":\"lightgrey\"},\"level\":\"overlay\",\"line_alpha\":{\"value\":1.0},\"line_color\":{\"value\":\"black\"},\"line_dash\":[4,4],\"line_width\":{\"value\":2},\"plot\":null,\"xs_units\":\"screen\",\"ys_units\":\"screen\"},\"id\":\"a8700457-869c-49f5-9b19-3c22b7b17632\",\"type\":\"PolyAnnotation\"},{\"attributes\":{\"months\":[0,2,4,6,8,10]},\"id\":\"e76eed2a-5882-496b-a8db-ab1880a2aa75\",\"type\":\"MonthsTicker\"},{\"attributes\":{\"days\":[1,4,7,10,13,16,19,22,25,28]},\"id\":\"dc56c0a5-b186-47c4-aad9-a4bd01ced8ec\",\"type\":\"DaysTicker\"},{\"attributes\":{\"fill_alpha\":{\"value\":0.1},\"fill_color\":{\"value\":\"#1f77b4\"},\"line_alpha\":{\"value\":0.1},\"line_color\":{\"value\":\"#1f77b4\"},\"size\":{\"units\":\"screen\",\"value\":8},\"x\":{\"field\":\"dates\"},\"y\":{\"field\":\"discharges\"}},\"id\":\"ba0a4c5e-7168-4555-b972-25aff6c8fea8\",\"type\":\"Circle\"},{\"attributes\":{},\"id\":\"4906c229-8fcc-40dc-858c-2a101019654b\",\"type\":\"NumeralTickFormatter\"},{\"attributes\":{\"callback\":null,\"column_names\":[\"dates\",\"discharges\"],\"data\":{\"dates\":[1520827200000.0,1520744400000.0,1520658000000.0,1520571600000.0,1520485200000.0,1520398800000.0,1520312400000.0,1520226000000.0,1520139600000.0,1520053200000.0,1519966800000.0,1519880400000.0,1519794000000.0,1519707600000.0,1519621200000.0,1519534800000.0,1519448400000.0,1519362000000.0,1519275600000.0,1519189200000.0,1519102800000.0,1519016400000.0,1518930000000.0,1518843600000.0,1518584400000.0,1518498000000.0,1518411600000.0,1518325200000.0,1518238800000.0,1518152400000.0,1518066000000.0,1517979600000.0,1517893200000.0,1517806800000.0,1517720400000.0,1517634000000.0,1517547600000.0,1517461200000.0,1517374800000.0,1517288400000.0,1517202000000.0,1517115600000.0,1517029200000.0,1516942800000.0,1516856400000.0,1516770000000.0,1516683600000.0,1516597200000.0,1516510800000.0,1516424400000.0,1516338000000.0,1516251600000.0,1516165200000.0,1516078800000.0,1515992400000.0,1515906000000.0,1515819600000.0,1515733200000.0,1515646800000.0,1515474000000.0,1515387600000.0,1515301200000.0,1515214800000.0,1515128400000.0,1515042000000.0,1514955600000.0,1514869200000.0,1514782800000.0,1514696400000.0,1514610000000.0,1514523600000.0,1514437200000.0,1514350800000.0,1514264400000.0,1514178000000.0,1514091600000.0,1514005200000.0,1513918800000.0,1513573200000.0,1513486800000.0,1513400400000.0,1513314000000.0,1513227600000.0,1513141200000.0,1513054800000.0,1512968400000.0,1512882000000.0,1512795600000.0,1512709200000.0,1512622800000.0,1512536400000.0,1511672400000.0,1511586000000.0,1511499600000.0,1511413200000.0,1511326800000.0,1511240400000.0,1511154000000.0,1511067600000.0,1510981200000.0,1510894800000.0,1510808400000.0,1510722000000.0,1510635600000.0,1510549200000.0,1510462800000.0,1510376400000.0,1510290000000.0,1510203600000.0,1510117200000.0,1510030800000.0,1509944400000.0,1509854400000.0,1509768000000.0,1509681600000.0,1509595200000.0,1509508800000.0,1509422400000.0,1509336000000.0,1509249600000.0,1509163200000.0,1509076800000.0,1508990400000.0,1508558400000.0,1508472000000.0,1508385600000.0,1508126400000.0,1508040000000.0,1507953600000.0,1507867200000.0,1507780800000.0,1507694400000.0,1507608000000.0,1507521600000.0,1506052800000.0,1505793600000.0,1505707200000.0,1505620800000.0,1505361600000.0,1505275200000.0,1505016000000.0,1504929600000.0,1504843200000.0,1504756800000.0,1504670400000.0,1504584000000.0,1504497600000.0,1504324800000.0,1504065600000.0,1503806400000.0,1503720000000.0,1503633600000.0,1503547200000.0,1503288000000.0,1503201600000.0,1503115200000.0,1502942400000.0,1502683200000.0,1502596800000.0,1502510400000.0,1502424000000.0,1502337600000.0,1502251200000.0,1502164800000.0,1502078400000.0,1501992000000.0,1501905600000.0,1501819200000.0,1501732800000.0,1501646400000.0,1501560000000.0,1501473600000.0,1501387200000.0,1501300800000.0,1501214400000.0,1501128000000.0,1501041600000.0,1500955200000.0,1500868800000.0,1500782400000.0,1500696000000.0,1500609600000.0,1500523200000.0,1500436800000.0,1500350400000.0,1500264000000.0,1500177600000.0,1500091200000.0,1500004800000.0,1499918400000.0,1499832000000.0,1499745600000.0,1499659200000.0,1499572800000.0,1499486400000.0,1499400000000.0,1499313600000.0,1499227200000.0,1499140800000.0,1499054400000.0,1498968000000.0,1498881600000.0,1498795200000.0,1498708800000.0,1498622400000.0,1498536000000.0,1498449600000.0,1498363200000.0,1498276800000.0,1498190400000.0,1498104000000.0,1498017600000.0,1497931200000.0,1497844800000.0,1497758400000.0,1497672000000.0,1497585600000.0,1497499200000.0,1497412800000.0,1497326400000.0,1497240000000.0,1497153600000.0,1497067200000.0,1496980800000.0,1496894400000.0,1496808000000.0,1496721600000.0,1496635200000.0,1496548800000.0,1496462400000.0,1496376000000.0,1496289600000.0,1496203200000.0,1496116800000.0,1496030400000.0,1495944000000.0,1495857600000.0,1495771200000.0,1495684800000.0,1495598400000.0,1495512000000.0,1495425600000.0,1495339200000.0,1495252800000.0,1495166400000.0,1495080000000.0,1494993600000.0,1494907200000.0,1494820800000.0,1494734400000.0,1494648000000.0,1494561600000.0,1494475200000.0,1494388800000.0,1494302400000.0,1494216000000.0,1494129600000.0,1494043200000.0,1493956800000.0,1493870400000.0,1493784000000.0,1493697600000.0,1493611200000.0,1493524800000.0,1493438400000.0,1493352000000.0,1493265600000.0,1493179200000.0,1493092800000.0,1493006400000.0,1492920000000.0,1492833600000.0,1492747200000.0,1492660800000.0,1492574400000.0,1492488000000.0,1492401600000.0,1492315200000.0,1492228800000.0,1492142400000.0,1492056000000.0,1491969600000.0,1491883200000.0,1491796800000.0,1491710400000.0,1491624000000.0,1491537600000.0,1491451200000.0,1491364800000.0,1491278400000.0,1491192000000.0,1491105600000.0,1491019200000.0,1490932800000.0,1490846400000.0,1490760000000.0,1490673600000.0,1490587200000.0,1490500800000.0,1490414400000.0,1490328000000.0,1490241600000.0,1490155200000.0,1490068800000.0,1489982400000.0,1489896000000.0,1489809600000.0,1489723200000.0,1489636800000.0,1489550400000.0,1489464000000.0,1489377600000.0,1489294800000.0,1489208400000.0,1489122000000.0,1489035600000.0,1488949200000.0,1488862800000.0,1488776400000.0,1488690000000.0,1488603600000.0,1488517200000.0,1488430800000.0,1488344400000.0,1488258000000.0,1488171600000.0,1488085200000.0,1487998800000.0,1487912400000.0,1487826000000.0,1487739600000.0,1487653200000.0,1487566800000.0,1487480400000.0,1487394000000.0,1487307600000.0,1487221200000.0,1487134800000.0,1487048400000.0,1486962000000.0,1486875600000.0,1486789200000.0,1486530000000.0,1486443600000.0,1486357200000.0,1486270800000.0,1486184400000.0,1486098000000.0,1486011600000.0,1485925200000.0,1485838800000.0,1485752400000.0,1485666000000.0,1485579600000.0,1485493200000.0,1485406800000.0,1485320400000.0,1485234000000.0,1485147600000.0,1485061200000.0,1484974800000.0,1484888400000.0,1484802000000.0,1484715600000.0,1484629200000.0,1484542800000.0,1484456400000.0,1484370000000.0,1484283600000.0,1484197200000.0,1484110800000.0,1484024400000.0,1483938000000.0,1483851600000.0,1483765200000.0,1483678800000.0,1483592400000.0,1483506000000.0,1483419600000.0,1483333200000.0,1483246800000.0,1483160400000.0,1483074000000.0,1482987600000.0,1482901200000.0,1482814800000.0,1482728400000.0,1482642000000.0,1482555600000.0,1482469200000.0,1482382800000.0,1482296400000.0,1482210000000.0,1482123600000.0,1482037200000.0,1481950800000.0,1481864400000.0,1481778000000.0,1481691600000.0,1481605200000.0,1481518800000.0,1481432400000.0,1481346000000.0,1481259600000.0,1481173200000.0,1481086800000.0,1481000400000.0,1480914000000.0,1480827600000.0,1480741200000.0,1480654800000.0,1480395600000.0,1479877200000.0,1479790800000.0,1479358800000.0,1477368000000.0,1477281600000.0,1477195200000.0,1476936000000.0,1476072000000.0,1475553600000.0,1475467200000.0,1475294400000.0,1474516800000.0,1474344000000.0,1474257600000.0,1473825600000.0,1472702400000.0,1472616000000.0,1472011200000.0,1471924800000.0,1471838400000.0,1471752000000.0,1471665600000.0,1471579200000.0,1471492800000.0,1471406400000.0,1471320000000.0,1471147200000.0,1471060800000.0,1470888000000.0,1470801600000.0,1470715200000.0,1470628800000.0,1470542400000.0,1470456000000.0,1470369600000.0,1470283200000.0,1470196800000.0,1470110400000.0,1470024000000.0,1469937600000.0,1469851200000.0,1469764800000.0,1469678400000.0,1469592000000.0,1469505600000.0,1469073600000.0,1468900800000.0,1468814400000.0,1468728000000.0,1468641600000.0,1468555200000.0,1468468800000.0,1468382400000.0,1468296000000.0,1468209600000.0,1468123200000.0,1468036800000.0,1467950400000.0,1467864000000.0,1467777600000.0,1467691200000.0,1467604800000.0,1467518400000.0,1467432000000.0,1467345600000.0,1467259200000.0,1467172800000.0,1467086400000.0,1467000000000.0,1466913600000.0,1466827200000.0,1466740800000.0,1466654400000.0,1466568000000.0,1466308800000.0,1466222400000.0,1466136000000.0,1465876800000.0,1465790400000.0,1465704000000.0,1465617600000.0,1465531200000.0,1465444800000.0,1465358400000.0,1465272000000.0,1465185600000.0,1465099200000.0,1465012800000.0,1464926400000.0,1464840000000.0,1464753600000.0,1464667200000.0,1464580800000.0,1464494400000.0,1464408000000.0,1464321600000.0,1464235200000.0,1464148800000.0,1464062400000.0,1463976000000.0,1463889600000.0,1463803200000.0,1463716800000.0,1463630400000.0,1463544000000.0,1463457600000.0,1463371200000.0,1463284800000.0,1463198400000.0,1463112000000.0,1463025600000.0,1462939200000.0,1462852800000.0,1462766400000.0,1462680000000.0,1462593600000.0,1462507200000.0,1462420800000.0,1462334400000.0,1462248000000.0,1462161600000.0,1462075200000.0,1461988800000.0,1461902400000.0,1461816000000.0,1461729600000.0,1461643200000.0,1461556800000.0,1461470400000.0,1461384000000.0,1461297600000.0,1461211200000.0,1461124800000.0,1461038400000.0,1460952000000.0,1460865600000.0,1460779200000.0,1460692800000.0,1460606400000.0,1460520000000.0,1460433600000.0,1460347200000.0,1460260800000.0,1460174400000.0,1460088000000.0,1460001600000.0,1459915200000.0,1459828800000.0,1459742400000.0,1459656000000.0,1459569600000.0,1459483200000.0,1459396800000.0,1459310400000.0,1459224000000.0,1459137600000.0,1459051200000.0,1458964800000.0,1458878400000.0,1458792000000.0,1458705600000.0,1458619200000.0,1458532800000.0,1458446400000.0,1458360000000.0,1458273600000.0,1458187200000.0,1458100800000.0,1458014400000.0,1457928000000.0,1457845200000.0,1457758800000.0,1457672400000.0,1457586000000.0,1457499600000.0,1457413200000.0,1457326800000.0,1457240400000.0,1457154000000.0,1457067600000.0,1456981200000.0,1456894800000.0,1456808400000.0,1456722000000.0,1456635600000.0,1456549200000.0,1456462800000.0,1456376400000.0,1456290000000.0,1456203600000.0,1456117200000.0,1456030800000.0,1455944400000.0,1455858000000.0,1455771600000.0,1455685200000.0,1455598800000.0,1455512400000.0,1455426000000.0,1455339600000.0,1455253200000.0,1455166800000.0,1455080400000.0,1454994000000.0,1454907600000.0,1454821200000.0,1454734800000.0,1454648400000.0,1454562000000.0,1454475600000.0,1454389200000.0,1454302800000.0,1454216400000.0,1454130000000.0,1454043600000.0,1453957200000.0,1453870800000.0,1453784400000.0,1453698000000.0,1453611600000.0,1453525200000.0,1453438800000.0,1453352400000.0,1453266000000.0,1453179600000.0,1453093200000.0,1453006800000.0,1452920400000.0,1452834000000.0,1452747600000.0,1452661200000.0,1452574800000.0,1452488400000.0,1452402000000.0,1452315600000.0,1452229200000.0,1452142800000.0,1452056400000.0,1451970000000.0,1451883600000.0,1451797200000.0,1451710800000.0,1451624400000.0],\"discharges\":[197000.0,226000.0,247000.0,271000.0,307000.0,354000.0,392000.0,418000.0,458000.0,505000.0,534000.0,565000.0,605000.0,631000.0,640000.0,655000.0,605000.0,600000.0,562000.0,552000.0,552000.0,527000.0,493000.0,481000.0,409000.0,335000.0,279000.0,279000.0,293000.0,259000.0,192000.0,139000.0,122000.0,126000.0,131000.0,136000.0,161000.0,193000.0,202000.0,197000.0,181000.0,188000.0,202000.0,207000.0,199000.0,184000.0,164000.0,140000.0,128000.0,135000.0,188000.0,263000.0,338000.0,343000.0,317000.0,249000.0,161000.0,79000.0,58100.0,45400.0,42400.0,42600.0,45500.0,50100.0,46000.0,44900.0,56800.0,72200.0,87800.0,101000.0,125000.0,150000.0,175000.0,181000.0,156000.0,120000.0,78800.0,44600.0,43800.0,44700.0,44000.0,45500.0,48200.0,52000.0,47300.0,54400.0,63800.0,66400.0,56800.0,62000.0,60300.0,121000.0,134000.0,155000.0,185000.0,191000.0,162000.0,124000.0,100000.0,74600.0,83800.0,96000.0,102000.0,117000.0,137000.0,171000.0,232000.0,276000.0,275000.0,256000.0,233000.0,172000.0,88800.0,78600.0,89100.0,96300.0,92800.0,62900.0,60500.0,65600.0,81700.0,99600.0,92400.0,43300.0,44300.0,45000.0,48500.0,49100.0,55900.0,62000.0,83300.0,68600.0,63400.0,56000.0,44200.0,45400.0,43300.0,43300.0,46700.0,43500.0,53700.0,47400.0,46500.0,52400.0,51800.0,42800.0,44700.0,81500.0,50800.0,44400.0,46000.0,58200.0,59800.0,50200.0,75200.0,54400.0,52000.0,59600.0,45700.0,58100.0,52900.0,54800.0,53800.0,51400.0,57400.0,58400.0,47900.0,64700.0,81900.0,158000.0,165000.0,145000.0,108000.0,112000.0,87900.0,116000.0,136000.0,123000.0,108000.0,91700.0,52400.0,54400.0,61700.0,85700.0,120000.0,122000.0,122000.0,101000.0,111000.0,102000.0,82400.0,74000.0,106000.0,121000.0,112000.0,76900.0,70500.0,90400.0,84400.0,90700.0,81500.0,72200.0,77200.0,114000.0,175000.0,257000.0,278000.0,259000.0,204000.0,114000.0,119000.0,106000.0,72900.0,64600.0,77000.0,59500.0,70900.0,60200.0,49000.0,56800.0,59000.0,56200.0,57000.0,86500.0,110000.0,103000.0,69700.0,72500.0,102000.0,121000.0,147000.0,166000.0,169000.0,209000.0,243000.0,241000.0,209000.0,206000.0,188000.0,121000.0,138000.0,148000.0,126000.0,97000.0,105000.0,153000.0,220000.0,256000.0,248000.0,220000.0,230000.0,264000.0,305000.0,323000.0,289000.0,251000.0,252000.0,267000.0,241000.0,207000.0,202000.0,207000.0,234000.0,278000.0,250000.0,203000.0,211000.0,185000.0,156000.0,138000.0,123000.0,118000.0,117000.0,112000.0,114000.0,118000.0,128000.0,134000.0,152000.0,177000.0,215000.0,259000.0,283000.0,294000.0,302000.0,303000.0,298000.0,304000.0,330000.0,338000.0,330000.0,301000.0,248000.0,187000.0,168000.0,143000.0,117000.0,110000.0,109000.0,121000.0,141000.0,164000.0,153000.0,124000.0,89100.0,83700.0,103000.0,105000.0,119000.0,141000.0,177000.0,212000.0,238000.0,235000.0,201000.0,173000.0,186000.0,246000.0,342000.0,404000.0,409000.0,390000.0,353000.0,214000.0,112000.0,105000.0,94900.0,78800.0,76100.0,83600.0,88700.0,102000.0,120000.0,134000.0,157000.0,181000.0,186000.0,182000.0,176000.0,186000.0,195000.0,183000.0,95100.0,82400.0,85300.0,91800.0,111000.0,128000.0,149000.0,169000.0,201000.0,241000.0,281000.0,313000.0,319000.0,278000.0,252000.0,249000.0,278000.0,314000.0,342000.0,367000.0,376000.0,380000.0,348000.0,292000.0,243000.0,189000.0,150000.0,121000.0,129000.0,162000.0,216000.0,250000.0,258000.0,226000.0,176000.0,146000.0,150000.0,167000.0,184000.0,200000.0,190000.0,172000.0,157000.0,133000.0,130000.0,141000.0,168000.0,232000.0,265000.0,260000.0,228000.0,185000.0,107000.0,85900.0,91700.0,85400.0,74500.0,74200.0,79000.0,85600.0,85900.0,71900.0,68000.0,76400.0,79700.0,76600.0,100000.0,94300.0,61600.0,53100.0,42500.0,47400.0,43800.0,53000.0,49000.0,47000.0,64900.0,47900.0,53400.0,51900.0,52300.0,44400.0,45400.0,45200.0,46800.0,45000.0,46000.0,53900.0,51600.0,52000.0,66700.0,47000.0,69300.0,101000.0,60000.0,54200.0,58300.0,49100.0,47000.0,54400.0,50200.0,53400.0,56100.0,58500.0,43300.0,47700.0,56600.0,68900.0,65100.0,93000.0,71600.0,69700.0,58500.0,47800.0,48400.0,51700.0,46700.0,45700.0,60900.0,69400.0,53000.0,43000.0,48900.0,74200.0,95300.0,93600.0,81200.0,90000.0,72800.0,53700.0,51800.0,50000.0,53900.0,59800.0,61200.0,84900.0,101000.0,145000.0,250000.0,245000.0,184000.0,86400.0,57100.0,48000.0,59100.0,72300.0,54200.0,53900.0,52800.0,45900.0,52100.0,63900.0,80000.0,87500.0,85400.0,79600.0,69100.0,73700.0,67900.0,55200.0,67100.0,84300.0,72000.0,84300.0,103000.0,139000.0,178000.0,191000.0,185000.0,176000.0,164000.0,136000.0,127000.0,133000.0,139000.0,165000.0,176000.0,185000.0,214000.0,206000.0,197000.0,182000.0,179000.0,200000.0,205000.0,227000.0,274000.0,295000.0,275000.0,225000.0,159000.0,150000.0,137000.0,145000.0,126000.0,78400.0,66100.0,69700.0,78300.0,69100.0,63800.0,75200.0,89500.0,106000.0,132000.0,171000.0,204000.0,209000.0,185000.0,174000.0,169000.0,101000.0,87300.0,76900.0,79400.0,73800.0,74300.0,102000.0,99500.0,86400.0,119000.0,136000.0,110000.0,101000.0,105000.0,95600.0,84500.0,87800.0,97100.0,102000.0,113000.0,135000.0,171000.0,224000.0,262000.0,282000.0,267000.0,253000.0,239000.0,220000.0,206000.0,191000.0,169000.0,167000.0,180000.0,195000.0,211000.0,222000.0,234000.0,243000.0,254000.0,268000.0,286000.0,307000.0,324000.0,339000.0,336000.0,323000.0,308000.0,292000.0,281000.0,277000.0,289000.0,249000.0,162000.0,89500.0,76700.0,81000.0,84400.0,99500.0,128000.0,162000.0,187000.0,231000.0,286000.0,328000.0,348000.0,332000.0,257000.0,170000.0,133000.0,122000.0,130000.0,119000.0,95500.0,74700.0,58100.0,57800.0,65100.0,65600.0,63800.0,66500.0,78100.0,90200.0,93500.0,97200.0,98600.0,99600.0,111000.0,114000.0,116000.0,113000.0,96300.0,79800.0,89200.0,96200.0,117000.0,134000.0,173000.0,227000.0,276000.0,325000.0,386000.0]}},\"id\":\"2646beae-b483-4013-b2e8-97c54c8d8974\",\"type\":\"ColumnDataSource\"},{\"attributes\":{\"data_source\":{\"id\":\"2646beae-b483-4013-b2e8-97c54c8d8974\",\"type\":\"ColumnDataSource\"},\"glyph\":{\"id\":\"14e5fdb1-804b-4497-bdc8-5adcee4e4822\",\"type\":\"Circle\"},\"hover_glyph\":null,\"muted_glyph\":null,\"nonselection_glyph\":{\"id\":\"ba0a4c5e-7168-4555-b972-25aff6c8fea8\",\"type\":\"Circle\"},\"selection_glyph\":null},\"id\":\"2c1d93bd-2b17-4e12-a2e7-b96703e56016\",\"type\":\"GlyphRenderer\"},{\"attributes\":{\"days\":[1,2,3,4,5,6,7,8,9,10,11,12,13,14,15,16,17,18,19,20,21,22,23,24,25,26,27,28,29,30,31]},\"id\":\"50319c14-868b-4ba0-a6f7-c7f4d9fb779d\",\"type\":\"DaysTicker\"},{\"attributes\":{\"dimension\":1,\"plot\":{\"id\":\"3cfd643e-97aa-4ff7-b97c-cd2fa27516ff\",\"subtype\":\"Figure\",\"type\":\"Plot\"},\"ticker\":{\"id\":\"64f4dfa5-3d94-4db3-b064-3b1ddc3155ab\",\"type\":\"BasicTicker\"}},\"id\":\"7455f06c-d3c3-45e0-9ec4-ffee7e1c5fc4\",\"type\":\"Grid\"},{\"attributes\":{\"callback\":null,\"overlay\":{\"id\":\"c992219c-bf07-48d8-b52f-61fa6e11b1f6\",\"type\":\"BoxAnnotation\"},\"plot\":{\"id\":\"3cfd643e-97aa-4ff7-b97c-cd2fa27516ff\",\"subtype\":\"Figure\",\"type\":\"Plot\"},\"renderers\":[{\"id\":\"2c1d93bd-2b17-4e12-a2e7-b96703e56016\",\"type\":\"GlyphRenderer\"},{\"id\":\"caf96da8-c4bc-4890-838c-dd125edecfff\",\"type\":\"GlyphRenderer\"}]},\"id\":\"45d70ae0-81ab-4560-a1dd-0b0f7d21d6ca\",\"type\":\"BoxSelectTool\"},{\"attributes\":{\"callback\":null,\"plot\":{\"id\":\"3cfd643e-97aa-4ff7-b97c-cd2fa27516ff\",\"subtype\":\"Figure\",\"type\":\"Plot\"}},\"id\":\"78479aa5-2bc2-499c-bf25-f086f533ddf2\",\"type\":\"TapTool\"},{\"attributes\":{\"plot\":{\"id\":\"3cfd643e-97aa-4ff7-b97c-cd2fa27516ff\",\"subtype\":\"Figure\",\"type\":\"Plot\"}},\"id\":\"2d578335-53ca-4a0b-80bc-75a36ac08dce\",\"type\":\"ZoomInTool\"},{\"attributes\":{\"plot\":{\"id\":\"3cfd643e-97aa-4ff7-b97c-cd2fa27516ff\",\"subtype\":\"Figure\",\"type\":\"Plot\"}},\"id\":\"d776235c-0568-471d-9b57-92b262a5cba7\",\"type\":\"ZoomOutTool\"},{\"attributes\":{\"days\":[1,8,15,22]},\"id\":\"238f9061-6b84-4064-871f-cb70135566ca\",\"type\":\"DaysTicker\"},{\"attributes\":{\"months\":[0,4,8]},\"id\":\"869a5aa1-17e3-4462-86de-ad78269c1bfd\",\"type\":\"MonthsTicker\"},{\"attributes\":{},\"id\":\"bbc615bc-b098-4cb8-bcf1-ba7008bb8932\",\"type\":\"YearsTicker\"}],\"root_ids\":[\"3cfd643e-97aa-4ff7-b97c-cd2fa27516ff\"]},\"title\":\"Bokeh Application\",\"version\":\"0.12.5\"}};\n",
       "            var render_items = [{\"docid\":\"4342d6cd-6204-4fa3-9729-f44883fd1e31\",\"elementid\":\"8efcb326-08cf-4378-b3f1-2189b6a65479\",\"modelid\":\"3cfd643e-97aa-4ff7-b97c-cd2fa27516ff\"}];\n",
       "            \n",
       "            Bokeh.embed.embed_items(docs_json, render_items);\n",
       "          };\n",
       "          if (document.readyState != \"loading\") fn();\n",
       "          else document.addEventListener(\"DOMContentLoaded\", fn);\n",
       "        })();\n",
       "      },\n",
       "      function(Bokeh) {\n",
       "      }\n",
       "    ];\n",
       "  \n",
       "    function run_inline_js() {\n",
       "      \n",
       "      if ((window.Bokeh !== undefined) || (force === true)) {\n",
       "        for (var i = 0; i < inline_js.length; i++) {\n",
       "          inline_js[i](window.Bokeh);\n",
       "        }if (force === true) {\n",
       "          display_loaded();\n",
       "        }} else if (Date.now() < window._bokeh_timeout) {\n",
       "        setTimeout(run_inline_js, 100);\n",
       "      } else if (!window._bokeh_failed_load) {\n",
       "        console.log(\"Bokeh: BokehJS failed to load within specified timeout.\");\n",
       "        window._bokeh_failed_load = true;\n",
       "      } else if (force !== true) {\n",
       "        var cell = $(document.getElementById(\"8efcb326-08cf-4378-b3f1-2189b6a65479\")).parents('.cell').data().cell;\n",
       "        cell.output_area.append_execute_result(NB_LOAD_WARNING)\n",
       "      }\n",
       "  \n",
       "    }\n",
       "  \n",
       "    if (window._bokeh_is_loading === 0) {\n",
       "      console.log(\"Bokeh: BokehJS loaded, going straight to plotting\");\n",
       "      run_inline_js();\n",
       "    } else {\n",
       "      load_libs(js_urls, function() {\n",
       "        console.log(\"Bokeh: BokehJS plotting callback run at\", now());\n",
       "        run_inline_js();\n",
       "      });\n",
       "    }\n",
       "  }(this));\n",
       "</script>"
      ]
     },
     "metadata": {},
     "output_type": "display_data"
    }
   ],
   "source": [
    "#output_file(\"discharges.html\")\n",
    "\n",
    "TOOLs = \"pan,lasso_select,box_select,tap,zoom_in,zoom_out\"\n",
    "\n",
    "source = ColumnDataSource(data=dict(dates=dates,discharges=discharges))\n",
    "\n",
    "plot_fig = figure(plot_width=700, plot_height=500, title=\"Ohio River Station 03292494\", x_axis_type='datetime', tools=TOOLs)\n",
    "plot_fig.circle('dates', 'discharges', size=8, color='navy', alpha=0.5, source=source)\n",
    "plot_fig.line('dates','discharges', color='navy', source=source)\n",
    "\n",
    "hover = HoverTool(\n",
    "    tooltips=[\n",
    "        ('Discharge', '@discharges')\n",
    "    ])\n",
    "\n",
    "#add the hover tool tips\n",
    "plot_fig.add_tools(hover)\n",
    "\n",
    "#format the axes\n",
    "plot_fig.yaxis.formatter = NumeralTickFormatter(format='0,0')\n",
    "plot_fig.yaxis.axis_label = \"Streamflow (cfs)\"\n",
    "\n",
    "show(plot_fig)"
   ]
  },
  {
   "cell_type": "code",
   "execution_count": 14,
   "metadata": {
    "collapsed": true
   },
   "outputs": [],
   "source": [
    "#disconnect to the sql database\n",
    "conn.close()"
   ]
  },
  {
   "cell_type": "markdown",
   "metadata": {},
   "source": [
    "what if it was stored in a csv? the data is stored as a text file in the data folder. Now based on the file structure there is a data folder where the root of the \n",
    "\n",
    "```\n",
    "#get the current working directory\n",
    "#path = os.getcwd()\n",
    "\n",
    "#data = pd.read_csv(path+'/'+'data/BeargrassCreek.txt', sep='\\t', header=1)\n",
    "#print(data)\n",
    "```"
   ]
  }
 ],
 "metadata": {
  "kernelspec": {
   "display_name": "Python 3",
   "language": "python",
   "name": "python3"
  },
  "language_info": {
   "codemirror_mode": {
    "name": "ipython",
    "version": 3
   },
   "file_extension": ".py",
   "mimetype": "text/x-python",
   "name": "python",
   "nbconvert_exporter": "python",
   "pygments_lexer": "ipython3",
   "version": "3.6.1"
  }
 },
 "nbformat": 4,
 "nbformat_minor": 2
}
